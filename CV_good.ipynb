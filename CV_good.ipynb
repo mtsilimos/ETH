{
  "nbformat": 4,
  "nbformat_minor": 0,
  "metadata": {
    "colab": {
      "provenance": [],
      "authorship_tag": "ABX9TyNXs2wDUYPmFAabROcF/Ene",
      "include_colab_link": true
    },
    "kernelspec": {
      "name": "python3",
      "display_name": "Python 3"
    },
    "language_info": {
      "name": "python"
    }
  },
  "cells": [
    {
      "cell_type": "markdown",
      "metadata": {
        "id": "view-in-github",
        "colab_type": "text"
      },
      "source": [
        "<a href=\"https://colab.research.google.com/github/mtsilimos/ETH/blob/main/CV_good.ipynb\" target=\"_parent\"><img src=\"https://colab.research.google.com/assets/colab-badge.svg\" alt=\"Open In Colab\"/></a>"
      ]
    },
    {
      "cell_type": "code",
      "source": [
        "import warnings\n",
        "warnings.filterwarnings(\"ignore\")\n",
        "\n",
        "from google.colab import drive\n",
        "drive.mount('/content/drive')"
      ],
      "metadata": {
        "colab": {
          "base_uri": "https://localhost:8080/"
        },
        "id": "rde3TVkbjxR2",
        "outputId": "9a7f339b-a700-412b-f2d2-86c7f1aaf871"
      },
      "execution_count": 389,
      "outputs": [
        {
          "output_type": "stream",
          "name": "stdout",
          "text": [
            "Drive already mounted at /content/drive; to attempt to forcibly remount, call drive.mount(\"/content/drive\", force_remount=True).\n"
          ]
        }
      ]
    },
    {
      "cell_type": "code",
      "source": [
        "import numpy as np\n",
        "from skimage.io import imread\n",
        "from skimage.io import imread_collection\n",
        "dirName = '/content/drive/My Drive/images/*.png'\n",
        "collection1 = imread_collection(dirName)\n",
        "collection1"
      ],
      "metadata": {
        "colab": {
          "base_uri": "https://localhost:8080/"
        },
        "id": "4Ej137PZkWL7",
        "outputId": "1e217763-d713-4699-87a8-947f4b3a3ffb"
      },
      "execution_count": 429,
      "outputs": [
        {
          "output_type": "execute_result",
          "data": {
            "text/plain": [
              "<skimage.io.collection.ImageCollection at 0x794a035acd00>"
            ]
          },
          "metadata": {},
          "execution_count": 429
        }
      ]
    },
    {
      "cell_type": "code",
      "source": [
        "import cv2\n",
        "import glob\n",
        "\n",
        "for filename in glob.glob('/content/drive/My Drive/images/*.png'):\n",
        "    print(filename)\n",
        "    img=cv2.imread(filename)\n",
        "    train_images=cv2.resize(img, (128, 128))"
      ],
      "metadata": {
        "colab": {
          "base_uri": "https://localhost:8080/"
        },
        "id": "lEOeLpBck6Nx",
        "outputId": "5f4a8241-b628-49b9-ed9c-edc6d12b2682"
      },
      "execution_count": 430,
      "outputs": [
        {
          "output_type": "stream",
          "name": "stdout",
          "text": [
            "/content/drive/My Drive/images/105618339-super-purple-modern-suv-car-side-view.png\n",
            "/content/drive/My Drive/images/156551_preview.png\n",
            "/content/drive/My Drive/images/2009-Ford-Kuga-Show-Car-Side-1280x960.png\n",
            "/content/drive/My Drive/images/1965-Shelby-Cobra-Roadster-Side-Profile.png\n",
            "/content/drive/My Drive/images/2011-278656-pagani-huayra-side-view1.png\n",
            "/content/drive/My Drive/images/2018-bm4-gt4-sports-car-side-view-pk.png\n",
            "/content/drive/My Drive/images/2008-Morgan-Life-Car-Side-Speed-1024x768.png\n",
            "/content/drive/My Drive/images/105618639-modern-pale-blue-suv-car-side-view.png\n",
            "/content/drive/My Drive/images/178583_Side_Profile_Web.png\n",
            "/content/drive/My Drive/images/003.png\n",
            "/content/drive/My Drive/images/2015_aston_martin_db10_4.png\n",
            "/content/drive/My Drive/images/G40-Junior-GT5-car-side.png\n",
            "/content/drive/My Drive/images/2018-nissan-sentra-2017-nissan-sentra-car-nissan-micra-png-f.png\n",
            "/content/drive/My Drive/images/2020-Honda-City-7-1068x672.png\n",
            "/content/drive/My Drive/images/2019-acura-rdx-11.png\n",
            "/content/drive/My Drive/images/865-8651925_fiat-tipo-company-car-side-view.png\n",
            "/content/drive/My Drive/images/202-2028012_car-png-hd-side-view-transparent-png.png\n",
            "/content/drive/My Drive/images/Aston-Marton-Car-Branding-Right-Side-PSD-Mockup.png\n",
            "/content/drive/My Drive/images/63-633585_infiniti-png-car-side-profile-png-transparent-png.png\n",
            "/content/drive/My Drive/images/3d_metal_machine_160_2000x.png\n",
            "/content/drive/My Drive/images/Haa04c90142df4a01829fd6d84b7b3347H.png\n",
            "/content/drive/My Drive/images/47865-Kit-Bandes-Bas-Caisse-Porsche-Boxster.png\n",
            "/content/drive/My Drive/images/75-752748_red-jaguar-f-type-car-side-view-png.png\n",
            "/content/drive/My Drive/images/45303-Kit-stickers-bandes-Mitsubishi-L200.png\n",
            "/content/drive/My Drive/images/8b21a8c96a9d38143f7b29c0f8e4fe3d.png\n",
            "/content/drive/My Drive/images/94374978-pretty-pink-modern-fast-city-car-side-view.png\n",
            "/content/drive/My Drive/images/2019-ferrari-488-spider-side-view-carbuzz-669506.png\n",
            "/content/drive/My Drive/images/62271369-ehrf%C3%BCrchtig-gelb-muscle-car-seitenansicht.png\n",
            "/content/drive/My Drive/images/676069.png\n",
            "/content/drive/My Drive/images/Hba200d821f7b485cb1975db750260e88o.png\n",
            "/content/drive/My Drive/images/39839516-black-sedan-car-side-view.png\n",
            "/content/drive/My Drive/images/75538664-compact-suv-car-side-view.png\n",
            "/content/drive/My Drive/images/Car.png\n",
            "/content/drive/My Drive/images/IMG_20201123_132345__01.png\n",
            "/content/drive/My Drive/images/IMG_20201123_132237.png\n",
            "/content/drive/My Drive/images/IMG_20201123_132401__01.png\n",
            "/content/drive/My Drive/images/IMG_20201123_132316__01.png\n",
            "/content/drive/My Drive/images/IMG_20201123_132248.png\n",
            "/content/drive/My Drive/images/IMG_20201123_131711.png\n",
            "/content/drive/My Drive/images/IMG_20201123_132159.png\n",
            "/content/drive/My Drive/images/IMG_20201123_132218__01.png\n",
            "/content/drive/My Drive/images/IMG_20201123_132539.png\n",
            "/content/drive/My Drive/images/IMG_20201123_132604__01.png\n",
            "/content/drive/My Drive/images/IMG_20201123_132516__01.png\n",
            "/content/drive/My Drive/images/IMG_20201123_132631.png\n",
            "/content/drive/My Drive/images/IMG_20201123_132617.png\n",
            "/content/drive/My Drive/images/IMG_20201123_132752.png\n",
            "/content/drive/My Drive/images/IMG_20201123_132800__01.png\n",
            "/content/drive/My Drive/images/IMG_20201123_132905.png\n",
            "/content/drive/My Drive/images/IMG_20201123_132724.png\n",
            "/content/drive/My Drive/images/IMG_20201123_132708.png\n",
            "/content/drive/My Drive/images/IMG_20201123_133022__01.png\n",
            "/content/drive/My Drive/images/IMG_20201123_134949.png\n",
            "/content/drive/My Drive/images/IMG_20201123_133510__01.png\n",
            "/content/drive/My Drive/images/IMG_20201123_135123.png\n",
            "/content/drive/My Drive/images/IMG_20201123_135003.png\n",
            "/content/drive/My Drive/images/IMG_20201123_135740.png\n",
            "/content/drive/My Drive/images/IMG_20201123_133402.png\n",
            "/content/drive/My Drive/images/IMG_20201123_135703.png\n",
            "/content/drive/My Drive/images/IMG_20201123_135616.png\n",
            "/content/drive/My Drive/images/IMG_20201123_134711.png\n",
            "/content/drive/My Drive/images/IMG_20201123_135137.png\n",
            "/content/drive/My Drive/images/IMG_20201123_135641.png\n",
            "/content/drive/My Drive/images/IMG_20201123_135540.png\n",
            "/content/drive/My Drive/images/IMG_20201123_135112.png\n",
            "/content/drive/My Drive/images/IMG_20201123_135204.png\n",
            "/content/drive/My Drive/images/IMG_20201123_134940.png\n",
            "/content/drive/My Drive/images/IMG_20201123_135102.png\n",
            "/content/drive/My Drive/images/IMG_20201123_133302.png\n",
            "/content/drive/My Drive/images/IMG_20201123_135713.png\n",
            "/content/drive/My Drive/images/IMG_20201123_133046.png\n",
            "/content/drive/My Drive/images/IMG_20201123_133422.png\n",
            "/content/drive/My Drive/images/IMG_20201123_132929__01.png\n",
            "/content/drive/My Drive/images/IMG_20201123_142949__01.png\n",
            "/content/drive/My Drive/images/IMG_20201123_142920__01.png\n",
            "/content/drive/My Drive/images/IMG_20201123_140245.png\n",
            "/content/drive/My Drive/images/IMG_20201123_135806.png\n",
            "/content/drive/My Drive/images/IMG_20201123_142931.png\n",
            "/content/drive/My Drive/images/IMG_20201123_143144__01.png\n",
            "/content/drive/My Drive/images/IMG_20201123_142937.png\n",
            "/content/drive/My Drive/images/IMG_20201123_141057.png\n",
            "/content/drive/My Drive/images/IMG_20201123_143129__01.png\n",
            "/content/drive/My Drive/images/IMG_20201123_141123.png\n",
            "/content/drive/My Drive/images/IMG_20201123_142834__01.png\n",
            "/content/drive/My Drive/images/IMG_20201123_142906.png\n",
            "/content/drive/My Drive/images/IMG_20201123_142855__01.png\n",
            "/content/drive/My Drive/images/IMG_20201123_135900.png\n",
            "/content/drive/My Drive/images/IMG_20201123_143036.png\n",
            "/content/drive/My Drive/images/IMG_20201123_142755.png\n",
            "/content/drive/My Drive/images/IMG_20201123_143103.png\n",
            "/content/drive/My Drive/images/IMG_20201123_142958__01.png\n",
            "/content/drive/My Drive/images/IMG_20201123_143055.png\n",
            "/content/drive/My Drive/images/IMG_20201123_143012.png\n",
            "/content/drive/My Drive/images/IMG_20201123_141046.png\n",
            "/content/drive/My Drive/images/IMG_20201123_140214.png\n",
            "/content/drive/My Drive/images/IMG_20201123_135908.png\n",
            "/content/drive/My Drive/images/IMG_20201123_143435.png\n",
            "/content/drive/My Drive/images/IMG_20201123_143605.png\n",
            "/content/drive/My Drive/images/IMG_20201123_143617.png\n",
            "/content/drive/My Drive/images/IMG_20201123_143412.png\n",
            "/content/drive/My Drive/images/IMG_20201123_143336.png\n",
            "/content/drive/My Drive/images/IMG_20201123_143245.png\n",
            "/content/drive/My Drive/images/IMG_20201123_143405.png\n",
            "/content/drive/My Drive/images/IMG_20201123_143155.png\n",
            "/content/drive/My Drive/images/IMG_20201123_143217__01.png\n",
            "/content/drive/My Drive/images/IMG_20201123_143523.png\n",
            "/content/drive/My Drive/images/IMG_20201123_143723.png\n",
            "/content/drive/My Drive/images/IMG_20201123_143545__01.png\n",
            "/content/drive/My Drive/images/IMG_20201123_143506.png\n",
            "/content/drive/My Drive/images/IMG_20201123_143344.png\n",
            "/content/drive/My Drive/images/IMG_20201123_143426.png\n",
            "/content/drive/My Drive/images/IMG_20201123_143657.png\n",
            "/content/drive/My Drive/images/IMG_20201123_143227.png\n",
            "/content/drive/My Drive/images/IMG_20201123_143628.png\n",
            "/content/drive/My Drive/images/IMG_20201123_143236.png\n",
            "/content/drive/My Drive/images/IMG_20201123_143710.png\n",
            "/content/drive/My Drive/images/IMG_20201123_143206.png\n",
            "/content/drive/My Drive/images/IMG_20201123_143532.png\n",
            "/content/drive/My Drive/images/IMG_20201123_144114.png\n",
            "/content/drive/My Drive/images/IMG_20201123_143739.png\n",
            "/content/drive/My Drive/images/IMG_20201123_143849.png\n",
            "/content/drive/My Drive/images/IMG_20201123_143935.png\n",
            "/content/drive/My Drive/images/IMG_20201123_144550.png\n",
            "/content/drive/My Drive/images/IMG_20201123_143954.png\n",
            "/content/drive/My Drive/images/IMG_20201123_144130.png\n",
            "/content/drive/My Drive/images/IMG_20201123_144621.png\n",
            "/content/drive/My Drive/images/IMG_20201123_144018__01.png\n",
            "/content/drive/My Drive/images/IMG_20201123_143813.png\n",
            "/content/drive/My Drive/images/IMG_20201123_144636.png\n",
            "/content/drive/My Drive/images/IMG_20201123_144418.png\n",
            "/content/drive/My Drive/images/IMG_20201123_144606.png\n",
            "/content/drive/My Drive/images/IMG_20201123_143839__01.png\n",
            "/content/drive/My Drive/images/IMG_20201123_143945.png\n",
            "/content/drive/My Drive/images/IMG_20201123_143758.png\n",
            "/content/drive/My Drive/images/IMG_20201123_143908.png\n",
            "/content/drive/My Drive/images/IMG_20201123_143925.png\n",
            "/content/drive/My Drive/images/IMG_20201123_143830.png\n",
            "/content/drive/My Drive/images/IMG_20201123_143749__01.png\n",
            "/content/drive/My Drive/images/IMG_20201123_143858__01.png\n",
            "/content/drive/My Drive/images/IMG_20201123_144532.png\n",
            "/content/drive/My Drive/images/Police-Car-side-view.png\n",
            "/content/drive/My Drive/images/Jeep-Wrangler-Left-Side-View-79407.png\n",
            "/content/drive/My Drive/images/a594e4d7b37f6e9357ca3b92a4125262.png\n",
            "/content/drive/My Drive/images/Volkswagen-Golf_GTI_5-door-2004-1600-10.png\n",
            "/content/drive/My Drive/images/IMG_20201123_144700.png\n",
            "/content/drive/My Drive/images/IMG_20201123_144750.png\n",
            "/content/drive/My Drive/images/IMG_20201123_144800.png\n",
            "/content/drive/My Drive/images/IMG_20201123_144709.png\n",
            "/content/drive/My Drive/images/Safety_Car_side_2015_Malaysia.png\n",
            "/content/drive/My Drive/images/Monster_energy_custom.png\n",
            "/content/drive/My Drive/images/IMG_20201123_144726.png\n",
            "/content/drive/My Drive/images/IMG_20201123_144740.png\n",
            "/content/drive/My Drive/images/Maruti-Suzuki-Ertiga-Right-Side-111110.png\n",
            "/content/drive/My Drive/images/anne-nygard-6t7wZAU3nuY-unsplash.png\n",
            "/content/drive/My Drive/images/audi-r8-v10-car-side-view.png\n",
            "/content/drive/My Drive/images/car-side.png\n",
            "/content/drive/My Drive/images/bb29a1ee64eaa0186407c5d2ead9c959.png\n",
            "/content/drive/My Drive/images/brandon-paul-ErH1LWnAKXg-unsplash.png\n",
            "/content/drive/My Drive/images/car1112.png\n",
            "/content/drive/My Drive/images/audir8.png\n",
            "/content/drive/My Drive/images/black-volkswagen-golf.png\n",
            "/content/drive/My Drive/images/car-graphic-19.png\n",
            "/content/drive/My Drive/images/black_side_shot_GALLERY.png\n",
            "/content/drive/My Drive/images/auto-machine-grey-toyota-car-hd-wallpaper-preview.png\n",
            "/content/drive/My Drive/images/carsticker.png\n",
            "/content/drive/My Drive/images/im16.png\n",
            "/content/drive/My Drive/images/driver-clipart-horsepower-sports-car-side-view-png-transparent-side-car-png-880_295.png\n",
            "/content/drive/My Drive/images/im14.png\n",
            "/content/drive/My Drive/images/im2.png\n",
            "/content/drive/My Drive/images/im19.png\n",
            "/content/drive/My Drive/images/gabor-papp-k688MQzA3LI-unsplash.png\n",
            "/content/drive/My Drive/images/im12.png\n",
            "/content/drive/My Drive/images/dimon-blr-rwgyRguL_YE-unsplash.png\n",
            "/content/drive/My Drive/images/im11.png\n",
            "/content/drive/My Drive/images/im10.png\n",
            "/content/drive/My Drive/images/e4a49bfe830012333d89a9861f6c4821.png\n",
            "/content/drive/My Drive/images/im13.png\n",
            "/content/drive/My Drive/images/depositphotos_176490672-stock-photo-white-toyota-suv-car-sid.png\n",
            "/content/drive/My Drive/images/hd-car-side-view-transparent-background-transparent-png-image-car-side-png-1947_776.png\n",
            "/content/drive/My Drive/images/im21.png\n",
            "/content/drive/My Drive/images/im22.png\n",
            "/content/drive/My Drive/images/il_570xN-1259936156_o9i9.png\n",
            "/content/drive/My Drive/images/im18.png\n",
            "/content/drive/My Drive/images/im20.png\n",
            "/content/drive/My Drive/images/d9ce7968a4073918ce554523363caa73.png\n",
            "/content/drive/My Drive/images/im15.png\n",
            "/content/drive/My Drive/images/im5.png\n",
            "/content/drive/My Drive/images/im3.png\n",
            "/content/drive/My Drive/images/image%20(14).png\n",
            "/content/drive/My Drive/images/im25.png\n",
            "/content/drive/My Drive/images/image%20(16).png\n",
            "/content/drive/My Drive/images/m_next_037.png\n",
            "/content/drive/My Drive/images/im24.png\n",
            "/content/drive/My Drive/images/image%20(15).png\n",
            "/content/drive/My Drive/images/image%20(12).png\n",
            "/content/drive/My Drive/images/im23.png\n",
            "/content/drive/My Drive/images/image%20(11).png\n",
            "/content/drive/My Drive/images/im4.png\n",
            "/content/drive/My Drive/images/im8.png\n",
            "/content/drive/My Drive/images/image%20(10).png\n",
            "/content/drive/My Drive/images/im6.png\n",
            "/content/drive/My Drive/images/image%20(13).png\n",
            "/content/drive/My Drive/images/im9.png\n",
            "/content/drive/My Drive/images/im7.png\n",
            "/content/drive/My Drive/images/unnamed.png\n",
            "/content/drive/My Drive/images/yuvraj-singh-keRubFoQix8-unsplash.png\n",
            "/content/drive/My Drive/images/side-view-(left)-90.png\n",
            "/content/drive/My Drive/images/maxresdefault.png\n",
            "/content/drive/My Drive/images/toyota-gt86-blue-sport-car-side-view-wallpaper-preview.png\n"
          ]
        }
      ]
    },
    {
      "cell_type": "code",
      "source": [
        "import tensorflow\n",
        "array_images = np.asarray(train_images).astype(np.float32)\n"
      ],
      "metadata": {
        "id": "9OEwef51lh_n"
      },
      "execution_count": 431,
      "outputs": []
    },
    {
      "cell_type": "code",
      "source": [
        "array_images.shape"
      ],
      "metadata": {
        "colab": {
          "base_uri": "https://localhost:8080/"
        },
        "id": "HmAzhmVfvLXO",
        "outputId": "6ccfe479-3351-450f-a7fa-c9c2fc1d4519"
      },
      "execution_count": 432,
      "outputs": [
        {
          "output_type": "execute_result",
          "data": {
            "text/plain": [
              "(128, 128, 3)"
            ]
          },
          "metadata": {},
          "execution_count": 432
        }
      ]
    },
    {
      "cell_type": "code",
      "source": [
        "import numpy as np\n",
        "from skimage.io import imread\n",
        "from skimage.io import imread_collection\n",
        "dirName = '/content/drive/My Drive/masks/*.png'\n",
        "collection2 = imread_collection(dirName)\n",
        "collection2"
      ],
      "metadata": {
        "colab": {
          "base_uri": "https://localhost:8080/"
        },
        "id": "Bgj_Tjbllt1C",
        "outputId": "c871e51d-277c-4724-cecd-34e957b86639"
      },
      "execution_count": 433,
      "outputs": [
        {
          "output_type": "execute_result",
          "data": {
            "text/plain": [
              "<skimage.io.collection.ImageCollection at 0x794a035ad8a0>"
            ]
          },
          "metadata": {},
          "execution_count": 433
        }
      ]
    },
    {
      "cell_type": "code",
      "source": [
        "import cv2\n",
        "import glob\n",
        "\n",
        "for filename in glob.glob('/content/drive/My Drive/masks/*.png'):\n",
        "    print(filename)\n",
        "    img=cv2.imread(filename)\n",
        "    test_images=cv2.resize(img, (128, 128))"
      ],
      "metadata": {
        "colab": {
          "base_uri": "https://localhost:8080/"
        },
        "id": "36rZR1TNl5sI",
        "outputId": "9c2317c3-19e1-44b6-820f-b0d5df00468c"
      },
      "execution_count": 434,
      "outputs": [
        {
          "output_type": "stream",
          "name": "stdout",
          "text": [
            "/content/drive/My Drive/masks/1965-Shelby-Cobra-Roadster-Side-Profile.png\n",
            "/content/drive/My Drive/masks/2009-Ford-Kuga-Show-Car-Side-1280x960.png\n",
            "/content/drive/My Drive/masks/105618639-modern-pale-blue-suv-car-side-view.png\n",
            "/content/drive/My Drive/masks/2008-Morgan-Life-Car-Side-Speed-1024x768.png\n",
            "/content/drive/My Drive/masks/003.png\n",
            "/content/drive/My Drive/masks/156551_preview.png\n",
            "/content/drive/My Drive/masks/178583_Side_Profile_Web.png\n",
            "/content/drive/My Drive/masks/105618339-super-purple-modern-suv-car-side-view.png\n",
            "/content/drive/My Drive/masks/94374978-pretty-pink-modern-fast-city-car-side-view.png\n",
            "/content/drive/My Drive/masks/2011-278656-pagani-huayra-side-view1.png\n",
            "/content/drive/My Drive/masks/2019-acura-rdx-11.png\n",
            "/content/drive/My Drive/masks/676069.png\n",
            "/content/drive/My Drive/masks/865-8651925_fiat-tipo-company-car-side-view.png\n",
            "/content/drive/My Drive/masks/IMG_20201123_132159.png\n",
            "/content/drive/My Drive/masks/63-633585_infiniti-png-car-side-profile-png-transparent-png.png\n",
            "/content/drive/My Drive/masks/75-752748_red-jaguar-f-type-car-side-view-png.png\n",
            "/content/drive/My Drive/masks/2018-nissan-sentra-2017-nissan-sentra-car-nissan-micra-png-f.png\n",
            "/content/drive/My Drive/masks/47865-Kit-Bandes-Bas-Caisse-Porsche-Boxster.png\n",
            "/content/drive/My Drive/masks/8b21a8c96a9d38143f7b29c0f8e4fe3d.png\n",
            "/content/drive/My Drive/masks/202-2028012_car-png-hd-side-view-transparent-png.png\n",
            "/content/drive/My Drive/masks/Car.png\n",
            "/content/drive/My Drive/masks/Hba200d821f7b485cb1975db750260e88o.png\n",
            "/content/drive/My Drive/masks/2015_aston_martin_db10_4.png\n",
            "/content/drive/My Drive/masks/2018-bm4-gt4-sports-car-side-view-pk.png\n",
            "/content/drive/My Drive/masks/2019-ferrari-488-spider-side-view-carbuzz-669506.png\n",
            "/content/drive/My Drive/masks/Haa04c90142df4a01829fd6d84b7b3347H.png\n",
            "/content/drive/My Drive/masks/Aston-Marton-Car-Branding-Right-Side-PSD-Mockup.png\n",
            "/content/drive/My Drive/masks/75538664-compact-suv-car-side-view.png\n",
            "/content/drive/My Drive/masks/IMG_20201123_131711.png\n",
            "/content/drive/My Drive/masks/2020-Honda-City-7-1068x672.png\n",
            "/content/drive/My Drive/masks/G40-Junior-GT5-car-side.png\n",
            "/content/drive/My Drive/masks/IMG_20201123_132218__01.png\n",
            "/content/drive/My Drive/masks/3d_metal_machine_160_2000x.png\n",
            "/content/drive/My Drive/masks/62271369-ehrf%C3%BCrchtig-gelb-muscle-car-seitenansicht.png\n",
            "/content/drive/My Drive/masks/45303-Kit-stickers-bandes-Mitsubishi-L200.png\n",
            "/content/drive/My Drive/masks/39839516-black-sedan-car-side-view.png\n",
            "/content/drive/My Drive/masks/IMG_20201123_132724.png\n",
            "/content/drive/My Drive/masks/IMG_20201123_132401__01.png\n",
            "/content/drive/My Drive/masks/IMG_20201123_133046.png\n",
            "/content/drive/My Drive/masks/IMG_20201123_133402.png\n",
            "/content/drive/My Drive/masks/IMG_20201123_135102.png\n",
            "/content/drive/My Drive/masks/IMG_20201123_133022__01.png\n",
            "/content/drive/My Drive/masks/IMG_20201123_132752.png\n",
            "/content/drive/My Drive/masks/IMG_20201123_132631.png\n",
            "/content/drive/My Drive/masks/IMG_20201123_132604__01.png\n",
            "/content/drive/My Drive/masks/IMG_20201123_135003.png\n",
            "/content/drive/My Drive/masks/IMG_20201123_132516__01.png\n",
            "/content/drive/My Drive/masks/IMG_20201123_132929__01.png\n",
            "/content/drive/My Drive/masks/IMG_20201123_132237.png\n",
            "/content/drive/My Drive/masks/IMG_20201123_133510__01.png\n",
            "/content/drive/My Drive/masks/IMG_20201123_132905.png\n",
            "/content/drive/My Drive/masks/IMG_20201123_132800__01.png\n",
            "/content/drive/My Drive/masks/IMG_20201123_132708.png\n",
            "/content/drive/My Drive/masks/IMG_20201123_134940.png\n",
            "/content/drive/My Drive/masks/IMG_20201123_132316__01.png\n",
            "/content/drive/My Drive/masks/IMG_20201123_132345__01.png\n",
            "/content/drive/My Drive/masks/IMG_20201123_135123.png\n",
            "/content/drive/My Drive/masks/IMG_20201123_132617.png\n",
            "/content/drive/My Drive/masks/IMG_20201123_133422.png\n",
            "/content/drive/My Drive/masks/IMG_20201123_135112.png\n",
            "/content/drive/My Drive/masks/IMG_20201123_134949.png\n",
            "/content/drive/My Drive/masks/IMG_20201123_133302.png\n",
            "/content/drive/My Drive/masks/IMG_20201123_132248.png\n",
            "/content/drive/My Drive/masks/IMG_20201123_134711.png\n",
            "/content/drive/My Drive/masks/IMG_20201123_132539.png\n",
            "/content/drive/My Drive/masks/IMG_20201123_135703.png\n",
            "/content/drive/My Drive/masks/IMG_20201123_135137.png\n",
            "/content/drive/My Drive/masks/IMG_20201123_140214.png\n",
            "/content/drive/My Drive/masks/IMG_20201123_142931.png\n",
            "/content/drive/My Drive/masks/IMG_20201123_135900.png\n",
            "/content/drive/My Drive/masks/IMG_20201123_135713.png\n",
            "/content/drive/My Drive/masks/IMG_20201123_143036.png\n",
            "/content/drive/My Drive/masks/IMG_20201123_142834__01.png\n",
            "/content/drive/My Drive/masks/IMG_20201123_142949__01.png\n",
            "/content/drive/My Drive/masks/IMG_20201123_143055.png\n",
            "/content/drive/My Drive/masks/IMG_20201123_135204.png\n",
            "/content/drive/My Drive/masks/IMG_20201123_142958__01.png\n",
            "/content/drive/My Drive/masks/IMG_20201123_135806.png\n",
            "/content/drive/My Drive/masks/IMG_20201123_142937.png\n",
            "/content/drive/My Drive/masks/IMG_20201123_142755.png\n",
            "/content/drive/My Drive/masks/IMG_20201123_143012.png\n",
            "/content/drive/My Drive/masks/IMG_20201123_141046.png\n",
            "/content/drive/My Drive/masks/IMG_20201123_143103.png\n",
            "/content/drive/My Drive/masks/IMG_20201123_135740.png\n",
            "/content/drive/My Drive/masks/IMG_20201123_142906.png\n",
            "/content/drive/My Drive/masks/IMG_20201123_142920__01.png\n",
            "/content/drive/My Drive/masks/IMG_20201123_143144__01.png\n",
            "/content/drive/My Drive/masks/IMG_20201123_135616.png\n",
            "/content/drive/My Drive/masks/IMG_20201123_135908.png\n",
            "/content/drive/My Drive/masks/IMG_20201123_141123.png\n",
            "/content/drive/My Drive/masks/IMG_20201123_142855__01.png\n",
            "/content/drive/My Drive/masks/IMG_20201123_143129__01.png\n",
            "/content/drive/My Drive/masks/IMG_20201123_141057.png\n",
            "/content/drive/My Drive/masks/IMG_20201123_135540.png\n",
            "/content/drive/My Drive/masks/IMG_20201123_135641.png\n",
            "/content/drive/My Drive/masks/IMG_20201123_140245.png\n",
            "/content/drive/My Drive/masks/IMG_20201123_143830.png\n",
            "/content/drive/My Drive/masks/IMG_20201123_143839__01.png\n",
            "/content/drive/My Drive/masks/IMG_20201123_143405.png\n",
            "/content/drive/My Drive/masks/IMG_20201123_143506.png\n",
            "/content/drive/My Drive/masks/IMG_20201123_143710.png\n",
            "/content/drive/My Drive/masks/IMG_20201123_143628.png\n",
            "/content/drive/My Drive/masks/IMG_20201123_143908.png\n",
            "/content/drive/My Drive/masks/IMG_20201123_143739.png\n",
            "/content/drive/My Drive/masks/IMG_20201123_143849.png\n",
            "/content/drive/My Drive/masks/IMG_20201123_143605.png\n",
            "/content/drive/My Drive/masks/IMG_20201123_143723.png\n",
            "/content/drive/My Drive/masks/IMG_20201123_143813.png\n",
            "/content/drive/My Drive/masks/IMG_20201123_143412.png\n",
            "/content/drive/My Drive/masks/IMG_20201123_143758.png\n",
            "/content/drive/My Drive/masks/IMG_20201123_143344.png\n",
            "/content/drive/My Drive/masks/IMG_20201123_143435.png\n",
            "/content/drive/My Drive/masks/IMG_20201123_143657.png\n",
            "/content/drive/My Drive/masks/IMG_20201123_143236.png\n",
            "/content/drive/My Drive/masks/IMG_20201123_143523.png\n",
            "/content/drive/My Drive/masks/IMG_20201123_143545__01.png\n",
            "/content/drive/My Drive/masks/IMG_20201123_143426.png\n",
            "/content/drive/My Drive/masks/IMG_20201123_143749__01.png\n",
            "/content/drive/My Drive/masks/IMG_20201123_143217__01.png\n",
            "/content/drive/My Drive/masks/IMG_20201123_143227.png\n",
            "/content/drive/My Drive/masks/IMG_20201123_143245.png\n",
            "/content/drive/My Drive/masks/IMG_20201123_143155.png\n",
            "/content/drive/My Drive/masks/IMG_20201123_143858__01.png\n",
            "/content/drive/My Drive/masks/IMG_20201123_143206.png\n",
            "/content/drive/My Drive/masks/IMG_20201123_143617.png\n",
            "/content/drive/My Drive/masks/IMG_20201123_143336.png\n",
            "/content/drive/My Drive/masks/IMG_20201123_143532.png\n",
            "/content/drive/My Drive/masks/Volkswagen-Golf_GTI_5-door-2004-1600-10.png\n",
            "/content/drive/My Drive/masks/IMG_20201123_144709.png\n",
            "/content/drive/My Drive/masks/IMG_20201123_144700.png\n",
            "/content/drive/My Drive/masks/IMG_20201123_143945.png\n",
            "/content/drive/My Drive/masks/IMG_20201123_144726.png\n",
            "/content/drive/My Drive/masks/Maruti-Suzuki-Ertiga-Right-Side-111110.png\n",
            "/content/drive/My Drive/masks/IMG_20201123_143925.png\n",
            "/content/drive/My Drive/masks/black-volkswagen-golf.png\n",
            "/content/drive/My Drive/masks/audi-r8-v10-car-side-view.png\n",
            "/content/drive/My Drive/masks/Safety_Car_side_2015_Malaysia.png\n",
            "/content/drive/My Drive/masks/audir8.png\n",
            "/content/drive/My Drive/masks/IMG_20201123_144532.png\n",
            "/content/drive/My Drive/masks/IMG_20201123_144550.png\n",
            "/content/drive/My Drive/masks/IMG_20201123_144418.png\n",
            "/content/drive/My Drive/masks/IMG_20201123_144621.png\n",
            "/content/drive/My Drive/masks/bb29a1ee64eaa0186407c5d2ead9c959.png\n",
            "/content/drive/My Drive/masks/IMG_20201123_144750.png\n",
            "/content/drive/My Drive/masks/IMG_20201123_144740.png\n",
            "/content/drive/My Drive/masks/IMG_20201123_144130.png\n",
            "/content/drive/My Drive/masks/Police-Car-side-view.png\n",
            "/content/drive/My Drive/masks/IMG_20201123_144606.png\n",
            "/content/drive/My Drive/masks/IMG_20201123_144636.png\n",
            "/content/drive/My Drive/masks/IMG_20201123_143954.png\n",
            "/content/drive/My Drive/masks/auto-machine-grey-toyota-car-hd-wallpaper-preview.png\n",
            "/content/drive/My Drive/masks/IMG_20201123_144114.png\n",
            "/content/drive/My Drive/masks/black_side_shot_GALLERY.png\n",
            "/content/drive/My Drive/masks/Monster_energy_custom.png\n",
            "/content/drive/My Drive/masks/IMG_20201123_144018__01.png\n",
            "/content/drive/My Drive/masks/a594e4d7b37f6e9357ca3b92a4125262.png\n",
            "/content/drive/My Drive/masks/Jeep-Wrangler-Left-Side-View-79407.png\n",
            "/content/drive/My Drive/masks/anne-nygard-6t7wZAU3nuY-unsplash.png\n",
            "/content/drive/My Drive/masks/IMG_20201123_143935.png\n",
            "/content/drive/My Drive/masks/brandon-paul-ErH1LWnAKXg-unsplash.png\n",
            "/content/drive/My Drive/masks/IMG_20201123_144800.png\n",
            "/content/drive/My Drive/masks/im4.png\n",
            "/content/drive/My Drive/masks/car1112.png\n",
            "/content/drive/My Drive/masks/im2.png\n",
            "/content/drive/My Drive/masks/im20.png\n",
            "/content/drive/My Drive/masks/im23.png\n",
            "/content/drive/My Drive/masks/hd-car-side-view-transparent-background-transparent-png-image-car-side-png-1947_776.png\n",
            "/content/drive/My Drive/masks/im12.png\n",
            "/content/drive/My Drive/masks/im8.png\n",
            "/content/drive/My Drive/masks/im25.png\n",
            "/content/drive/My Drive/masks/im14.png\n",
            "/content/drive/My Drive/masks/im24.png\n",
            "/content/drive/My Drive/masks/carsticker.png\n",
            "/content/drive/My Drive/masks/im10.png\n",
            "/content/drive/My Drive/masks/depositphotos_176490672-stock-photo-white-toyota-suv-car-sid.png\n",
            "/content/drive/My Drive/masks/driver-clipart-horsepower-sports-car-side-view-png-transparent-side-car-png-880_295.png\n",
            "/content/drive/My Drive/masks/dimon-blr-rwgyRguL_YE-unsplash.png\n",
            "/content/drive/My Drive/masks/e4a49bfe830012333d89a9861f6c4821.png\n",
            "/content/drive/My Drive/masks/im18.png\n",
            "/content/drive/My Drive/masks/im22.png\n",
            "/content/drive/My Drive/masks/im15.png\n",
            "/content/drive/My Drive/masks/car-side.png\n",
            "/content/drive/My Drive/masks/im6.png\n",
            "/content/drive/My Drive/masks/im3.png\n",
            "/content/drive/My Drive/masks/im11.png\n",
            "/content/drive/My Drive/masks/im13.png\n",
            "/content/drive/My Drive/masks/il_570xN-1259936156_o9i9.png\n",
            "/content/drive/My Drive/masks/im21.png\n",
            "/content/drive/My Drive/masks/car-graphic-19.png\n",
            "/content/drive/My Drive/masks/im19.png\n",
            "/content/drive/My Drive/masks/im16.png\n",
            "/content/drive/My Drive/masks/d9ce7968a4073918ce554523363caa73.png\n",
            "/content/drive/My Drive/masks/im5.png\n",
            "/content/drive/My Drive/masks/im7.png\n",
            "/content/drive/My Drive/masks/gabor-papp-k688MQzA3LI-unsplash.png\n",
            "/content/drive/My Drive/masks/unnamed.png\n",
            "/content/drive/My Drive/masks/malusi-msomi-1Jz3Xq7EcrI-unsplash.png\n",
            "/content/drive/My Drive/masks/kevin-bhagat-3cLpiv8h5so-unsplash.png\n",
            "/content/drive/My Drive/masks/yuvraj-singh-keRubFoQix8-unsplash.png\n",
            "/content/drive/My Drive/masks/image%20(15).png\n",
            "/content/drive/My Drive/masks/image%20(10).png\n",
            "/content/drive/My Drive/masks/image%20(13).png\n",
            "/content/drive/My Drive/masks/image%20(11).png\n",
            "/content/drive/My Drive/masks/m_next_037.png\n",
            "/content/drive/My Drive/masks/toyota-gt86-blue-sport-car-side-view-wallpaper-preview.png\n",
            "/content/drive/My Drive/masks/side-view-(left)-90.png\n",
            "/content/drive/My Drive/masks/im9.png\n",
            "/content/drive/My Drive/masks/image%20(14).png\n",
            "/content/drive/My Drive/masks/maxresdefault.png\n",
            "/content/drive/My Drive/masks/image%20(12).png\n",
            "/content/drive/My Drive/masks/image%20(16).png\n"
          ]
        }
      ]
    },
    {
      "cell_type": "code",
      "source": [
        "test_images = np.asarray(test_images).astype(np.float32)"
      ],
      "metadata": {
        "id": "e8E0hhGXMhur"
      },
      "execution_count": 443,
      "outputs": []
    },
    {
      "cell_type": "code",
      "source": [
        "test_images.shape"
      ],
      "metadata": {
        "colab": {
          "base_uri": "https://localhost:8080/"
        },
        "id": "MxKlztfiMmAi",
        "outputId": "f6e31bdb-50d3-46f7-96b3-e337fca02d33"
      },
      "execution_count": 444,
      "outputs": [
        {
          "output_type": "execute_result",
          "data": {
            "text/plain": [
              "(128, 128, 3)"
            ]
          },
          "metadata": {},
          "execution_count": 444
        }
      ]
    },
    {
      "cell_type": "code",
      "source": [
        "train_images = array_images /255.0\n",
        "train_images.shape\n"
      ],
      "metadata": {
        "colab": {
          "base_uri": "https://localhost:8080/"
        },
        "id": "o3IyN9fWmBhJ",
        "outputId": "d68a5172-5cd2-4fa0-9c00-27e6d95234b2"
      },
      "execution_count": 445,
      "outputs": [
        {
          "output_type": "execute_result",
          "data": {
            "text/plain": [
              "(128, 128, 3)"
            ]
          },
          "metadata": {},
          "execution_count": 445
        }
      ]
    },
    {
      "cell_type": "code",
      "source": [
        "import tensorflow.keras as keras\n",
        "import numpy as np\n",
        "X= np.reshape(train_images, (-1, 128, 128, 3))\n",
        "y = np.reshape(test_images, (-1, 128, 128, 3))\n",
        "\n",
        "\n",
        "\n"
      ],
      "metadata": {
        "id": "I4Ua5sHkmVI8"
      },
      "execution_count": 571,
      "outputs": []
    },
    {
      "cell_type": "code",
      "source": [],
      "metadata": {
        "id": "MNPER7KeYxtR"
      },
      "execution_count": null,
      "outputs": []
    },
    {
      "cell_type": "code",
      "source": [
        "print(X.dtype)\n",
        "print(y.dtype)"
      ],
      "metadata": {
        "colab": {
          "base_uri": "https://localhost:8080/"
        },
        "id": "f_YIKZVOpTy-",
        "outputId": "e89e293b-6e92-495d-ed87-ee23ac4940f9"
      },
      "execution_count": 572,
      "outputs": [
        {
          "output_type": "stream",
          "name": "stdout",
          "text": [
            "float32\n",
            "float32\n"
          ]
        }
      ]
    },
    {
      "cell_type": "code",
      "source": [
        "X_train, X_valid, y_train, y_valid = train_test_split(X, y, test_size=0.1, random_state=42)"
      ],
      "metadata": {
        "colab": {
          "base_uri": "https://localhost:8080/",
          "height": 321
        },
        "id": "cb2GQXR9YzDU",
        "outputId": "ec589641-d1c4-44f5-bbdf-e7f21720e20c"
      },
      "execution_count": 573,
      "outputs": [
        {
          "output_type": "error",
          "ename": "ValueError",
          "evalue": "ignored",
          "traceback": [
            "\u001b[0;31m---------------------------------------------------------------------------\u001b[0m",
            "\u001b[0;31mValueError\u001b[0m                                Traceback (most recent call last)",
            "\u001b[0;32m<ipython-input-573-96c701816012>\u001b[0m in \u001b[0;36m<cell line: 1>\u001b[0;34m()\u001b[0m\n\u001b[0;32m----> 1\u001b[0;31m \u001b[0mX_train\u001b[0m\u001b[0;34m,\u001b[0m \u001b[0mX_valid\u001b[0m\u001b[0;34m,\u001b[0m \u001b[0my_train\u001b[0m\u001b[0;34m,\u001b[0m \u001b[0my_valid\u001b[0m \u001b[0;34m=\u001b[0m \u001b[0mtrain_test_split\u001b[0m\u001b[0;34m(\u001b[0m\u001b[0mX\u001b[0m\u001b[0;34m,\u001b[0m \u001b[0my\u001b[0m\u001b[0;34m,\u001b[0m \u001b[0mtest_size\u001b[0m\u001b[0;34m=\u001b[0m\u001b[0;36m0.1\u001b[0m\u001b[0;34m,\u001b[0m \u001b[0mrandom_state\u001b[0m\u001b[0;34m=\u001b[0m\u001b[0;36m42\u001b[0m\u001b[0;34m)\u001b[0m\u001b[0;34m\u001b[0m\u001b[0;34m\u001b[0m\u001b[0m\n\u001b[0m",
            "\u001b[0;32m/usr/local/lib/python3.10/dist-packages/sklearn/model_selection/_split.py\u001b[0m in \u001b[0;36mtrain_test_split\u001b[0;34m(test_size, train_size, random_state, shuffle, stratify, *arrays)\u001b[0m\n\u001b[1;32m   2560\u001b[0m \u001b[0;34m\u001b[0m\u001b[0m\n\u001b[1;32m   2561\u001b[0m     \u001b[0mn_samples\u001b[0m \u001b[0;34m=\u001b[0m \u001b[0m_num_samples\u001b[0m\u001b[0;34m(\u001b[0m\u001b[0marrays\u001b[0m\u001b[0;34m[\u001b[0m\u001b[0;36m0\u001b[0m\u001b[0;34m]\u001b[0m\u001b[0;34m)\u001b[0m\u001b[0;34m\u001b[0m\u001b[0;34m\u001b[0m\u001b[0m\n\u001b[0;32m-> 2562\u001b[0;31m     n_train, n_test = _validate_shuffle_split(\n\u001b[0m\u001b[1;32m   2563\u001b[0m         \u001b[0mn_samples\u001b[0m\u001b[0;34m,\u001b[0m \u001b[0mtest_size\u001b[0m\u001b[0;34m,\u001b[0m \u001b[0mtrain_size\u001b[0m\u001b[0;34m,\u001b[0m \u001b[0mdefault_test_size\u001b[0m\u001b[0;34m=\u001b[0m\u001b[0;36m0.25\u001b[0m\u001b[0;34m\u001b[0m\u001b[0;34m\u001b[0m\u001b[0m\n\u001b[1;32m   2564\u001b[0m     )\n",
            "\u001b[0;32m/usr/local/lib/python3.10/dist-packages/sklearn/model_selection/_split.py\u001b[0m in \u001b[0;36m_validate_shuffle_split\u001b[0;34m(n_samples, test_size, train_size, default_test_size)\u001b[0m\n\u001b[1;32m   2234\u001b[0m \u001b[0;34m\u001b[0m\u001b[0m\n\u001b[1;32m   2235\u001b[0m     \u001b[0;32mif\u001b[0m \u001b[0mn_train\u001b[0m \u001b[0;34m==\u001b[0m \u001b[0;36m0\u001b[0m\u001b[0;34m:\u001b[0m\u001b[0;34m\u001b[0m\u001b[0;34m\u001b[0m\u001b[0m\n\u001b[0;32m-> 2236\u001b[0;31m         raise ValueError(\n\u001b[0m\u001b[1;32m   2237\u001b[0m             \u001b[0;34m\"With n_samples={}, test_size={} and train_size={}, the \"\u001b[0m\u001b[0;34m\u001b[0m\u001b[0;34m\u001b[0m\u001b[0m\n\u001b[1;32m   2238\u001b[0m             \u001b[0;34m\"resulting train set will be empty. Adjust any of the \"\u001b[0m\u001b[0;34m\u001b[0m\u001b[0;34m\u001b[0m\u001b[0m\n",
            "\u001b[0;31mValueError\u001b[0m: With n_samples=1, test_size=0.1 and train_size=None, the resulting train set will be empty. Adjust any of the aforementioned parameters."
          ]
        }
      ]
    },
    {
      "cell_type": "code",
      "source": [
        "from keras.callbacks import EarlyStopping, ModelCheckpoint\n",
        "from keras import backend as K\n",
        "import pandas as pd\n",
        "import numpy as np\n",
        "import matplotlib.pyplot as plt\n",
        "import os\n",
        "import cv2\n",
        "import tensorflow as tf\n",
        "from tensorflow.keras import Input\n",
        "from tensorflow.keras.models import Model, load_model, save_model\n",
        "from tensorflow.keras.layers import Input, Activation, BatchNormalization, Lambda, Conv2D, Conv2DTranspose,MaxPooling2D, concatenate,UpSampling2D,Dropout\n",
        "from tensorflow.keras.optimizers import Adam\n",
        "from tensorflow.keras.callbacks import EarlyStopping, ModelCheckpoint,ReduceLROnPlateau\n",
        "from tensorflow.keras import backend as K\n",
        "from tensorflow.keras.preprocessing.image import ImageDataGenerator\n",
        "from sklearn.model_selection import KFold\n",
        "from tensorflow.keras.losses import BinaryCrossentropy\n",
        "import random\n",
        "\n",
        "import tensorflow as tf\n",
        "\n",
        "inputs = Input((128, 128, 3))\n",
        "c1 = Conv2D(16, (3, 3), activation='elu', kernel_initializer='he_normal', padding='same') (inputs)\n",
        "\n",
        "c1 = Conv2D(16, (3, 3), activation='elu', kernel_initializer='he_normal', padding='same') (c1)\n",
        "p1 = MaxPooling2D((2, 2)) (c1)\n",
        "\n",
        "c2 = Conv2D(32, (3, 3), activation='elu', kernel_initializer='he_normal', padding='same') (p1)\n",
        "\n",
        "c2 = Conv2D(32, (3, 3), activation='elu', kernel_initializer='he_normal', padding='same') (c2)\n",
        "p2 = MaxPooling2D((2, 2)) (c2)\n",
        "\n",
        "c3 = Conv2D(64, (3, 3), activation='elu', kernel_initializer='he_normal', padding='same') (p2)\n",
        "\n",
        "c3 = Conv2D(64, (3, 3), activation='elu', kernel_initializer='he_normal', padding='same') (c3)\n",
        "p3 = MaxPooling2D((2, 2)) (c3)\n",
        "\n",
        "c4 = Conv2D(128, (3, 3), activation='elu', kernel_initializer='he_normal', padding='same') (p3)\n",
        "\n",
        "c4 = Conv2D(128, (3, 3), activation='elu', kernel_initializer='he_normal', padding='same') (c4)\n",
        "p4 = MaxPooling2D(pool_size=(2, 2)) (c4)\n",
        "\n",
        "c5 = Conv2D(256, (3, 3), activation='elu', kernel_initializer='he_normal', padding='same') (p4)\n",
        "\n",
        "c5 = Conv2D(256, (3, 3), activation='elu', kernel_initializer='he_normal', padding='same') (c5)\n",
        "\n",
        "u6 = Conv2DTranspose(128, (2, 2), strides=(2, 2), padding='same') (c5)\n",
        "u6 = concatenate([u6, c4])\n",
        "c6 = Conv2D(128, (3, 3), activation='elu', kernel_initializer='he_normal', padding='same') (u6)\n",
        "\n",
        "c6 = Conv2D(128, (3, 3), activation='elu', kernel_initializer='he_normal', padding='same') (c6)\n",
        "\n",
        "u7 = Conv2DTranspose(64, (2, 2), strides=(2, 2), padding='same') (c6)\n",
        "u7 = concatenate([u7, c3])\n",
        "c7 = Conv2D(64, (3, 3), activation='elu', kernel_initializer='he_normal', padding='same') (u7)\n",
        "\n",
        "c7 = Conv2D(64, (3, 3), activation='elu', kernel_initializer='he_normal', padding='same') (c7)\n",
        "\n",
        "u8 = Conv2DTranspose(32, (2, 2), strides=(2, 2), padding='same') (c7)\n",
        "u8 = concatenate([u8, c2])\n",
        "c8 = Conv2D(32, (3, 3), activation='elu', kernel_initializer='he_normal', padding='same') (u8)\n",
        "\n",
        "c8 = Conv2D(32, (3, 3), activation='elu', kernel_initializer='he_normal', padding='same') (c8)\n",
        "\n",
        "u9 = Conv2DTranspose(16, (2, 2), strides=(2, 2), padding='same') (c8)\n",
        "u9 = concatenate([u9, c1], axis=3)\n",
        "c9 = Conv2D(16, (3, 3), activation='elu', kernel_initializer='he_normal', padding='same') (u9)\n",
        "\n",
        "c9 = Conv2D(16, (3, 3), activation='elu', kernel_initializer='he_normal', padding='same') (c9)\n",
        "\n",
        "outputs = Conv2D(3, (1, 1), activation='sigmoid') (c9)\n",
        "\n",
        "model = Model(inputs=[inputs], outputs=[outputs])\n",
        "\n",
        "\n",
        "\n",
        "model.summary()\n"
      ],
      "metadata": {
        "colab": {
          "base_uri": "https://localhost:8080/"
        },
        "id": "p_CZfwHR0XHs",
        "outputId": "eddccc0c-d20a-4371-ab79-8a6f264774ac"
      },
      "execution_count": 568,
      "outputs": [
        {
          "output_type": "stream",
          "name": "stdout",
          "text": [
            "Model: \"model_56\"\n",
            "__________________________________________________________________________________________________\n",
            " Layer (type)                Output Shape                 Param #   Connected to                  \n",
            "==================================================================================================\n",
            " input_55 (InputLayer)       [(None, 128, 128, 3)]        0         []                            \n",
            "                                                                                                  \n",
            " conv2d_1022 (Conv2D)        (None, 128, 128, 16)         448       ['input_55[0][0]']            \n",
            "                                                                                                  \n",
            " conv2d_1023 (Conv2D)        (None, 128, 128, 16)         2320      ['conv2d_1022[0][0]']         \n",
            "                                                                                                  \n",
            " max_pooling2d_200 (MaxPool  (None, 64, 64, 16)           0         ['conv2d_1023[0][0]']         \n",
            " ing2D)                                                                                           \n",
            "                                                                                                  \n",
            " conv2d_1024 (Conv2D)        (None, 64, 64, 32)           4640      ['max_pooling2d_200[0][0]']   \n",
            "                                                                                                  \n",
            " conv2d_1025 (Conv2D)        (None, 64, 64, 32)           9248      ['conv2d_1024[0][0]']         \n",
            "                                                                                                  \n",
            " max_pooling2d_201 (MaxPool  (None, 32, 32, 32)           0         ['conv2d_1025[0][0]']         \n",
            " ing2D)                                                                                           \n",
            "                                                                                                  \n",
            " conv2d_1026 (Conv2D)        (None, 32, 32, 64)           18496     ['max_pooling2d_201[0][0]']   \n",
            "                                                                                                  \n",
            " conv2d_1027 (Conv2D)        (None, 32, 32, 64)           36928     ['conv2d_1026[0][0]']         \n",
            "                                                                                                  \n",
            " max_pooling2d_202 (MaxPool  (None, 16, 16, 64)           0         ['conv2d_1027[0][0]']         \n",
            " ing2D)                                                                                           \n",
            "                                                                                                  \n",
            " conv2d_1028 (Conv2D)        (None, 16, 16, 128)          73856     ['max_pooling2d_202[0][0]']   \n",
            "                                                                                                  \n",
            " conv2d_1029 (Conv2D)        (None, 16, 16, 128)          147584    ['conv2d_1028[0][0]']         \n",
            "                                                                                                  \n",
            " max_pooling2d_203 (MaxPool  (None, 8, 8, 128)            0         ['conv2d_1029[0][0]']         \n",
            " ing2D)                                                                                           \n",
            "                                                                                                  \n",
            " conv2d_1030 (Conv2D)        (None, 8, 8, 256)            295168    ['max_pooling2d_203[0][0]']   \n",
            "                                                                                                  \n",
            " conv2d_1031 (Conv2D)        (None, 8, 8, 256)            590080    ['conv2d_1030[0][0]']         \n",
            "                                                                                                  \n",
            " conv2d_transpose_226 (Conv  (None, 16, 16, 128)          131200    ['conv2d_1031[0][0]']         \n",
            " 2DTranspose)                                                                                     \n",
            "                                                                                                  \n",
            " concatenate_226 (Concatena  (None, 16, 16, 256)          0         ['conv2d_transpose_226[0][0]',\n",
            " te)                                                                 'conv2d_1029[0][0]']         \n",
            "                                                                                                  \n",
            " conv2d_1032 (Conv2D)        (None, 16, 16, 128)          295040    ['concatenate_226[0][0]']     \n",
            "                                                                                                  \n",
            " conv2d_1033 (Conv2D)        (None, 16, 16, 128)          147584    ['conv2d_1032[0][0]']         \n",
            "                                                                                                  \n",
            " conv2d_transpose_227 (Conv  (None, 32, 32, 64)           32832     ['conv2d_1033[0][0]']         \n",
            " 2DTranspose)                                                                                     \n",
            "                                                                                                  \n",
            " concatenate_227 (Concatena  (None, 32, 32, 128)          0         ['conv2d_transpose_227[0][0]',\n",
            " te)                                                                 'conv2d_1027[0][0]']         \n",
            "                                                                                                  \n",
            " conv2d_1034 (Conv2D)        (None, 32, 32, 64)           73792     ['concatenate_227[0][0]']     \n",
            "                                                                                                  \n",
            " conv2d_1035 (Conv2D)        (None, 32, 32, 64)           36928     ['conv2d_1034[0][0]']         \n",
            "                                                                                                  \n",
            " conv2d_transpose_228 (Conv  (None, 64, 64, 32)           8224      ['conv2d_1035[0][0]']         \n",
            " 2DTranspose)                                                                                     \n",
            "                                                                                                  \n",
            " concatenate_228 (Concatena  (None, 64, 64, 64)           0         ['conv2d_transpose_228[0][0]',\n",
            " te)                                                                 'conv2d_1025[0][0]']         \n",
            "                                                                                                  \n",
            " conv2d_1036 (Conv2D)        (None, 64, 64, 32)           18464     ['concatenate_228[0][0]']     \n",
            "                                                                                                  \n",
            " conv2d_1037 (Conv2D)        (None, 64, 64, 32)           9248      ['conv2d_1036[0][0]']         \n",
            "                                                                                                  \n",
            " conv2d_transpose_229 (Conv  (None, 128, 128, 16)         2064      ['conv2d_1037[0][0]']         \n",
            " 2DTranspose)                                                                                     \n",
            "                                                                                                  \n",
            " concatenate_229 (Concatena  (None, 128, 128, 32)         0         ['conv2d_transpose_229[0][0]',\n",
            " te)                                                                 'conv2d_1023[0][0]']         \n",
            "                                                                                                  \n",
            " conv2d_1038 (Conv2D)        (None, 128, 128, 16)         4624      ['concatenate_229[0][0]']     \n",
            "                                                                                                  \n",
            " conv2d_1039 (Conv2D)        (None, 128, 128, 16)         2320      ['conv2d_1038[0][0]']         \n",
            "                                                                                                  \n",
            " conv2d_1040 (Conv2D)        (None, 128, 128, 3)          51        ['conv2d_1039[0][0]']         \n",
            "                                                                                                  \n",
            "==================================================================================================\n",
            "Total params: 1941139 (7.40 MB)\n",
            "Trainable params: 1941139 (7.40 MB)\n",
            "Non-trainable params: 0 (0.00 Byte)\n",
            "__________________________________________________________________________________________________\n"
          ]
        }
      ]
    },
    {
      "cell_type": "code",
      "source": [
        "model.compile(optimizer='adam',loss='binary_crossentropy',\n",
        "              metrics=['accuracy'])"
      ],
      "metadata": {
        "id": "L3nbo7ssSYeG"
      },
      "execution_count": 569,
      "outputs": []
    },
    {
      "cell_type": "code",
      "source": [
        "history = model.fit(X_train, y_train, batch_size=32, epochs=3,\n",
        "                    validation_data=(X_valid, y_valid))"
      ],
      "metadata": {
        "colab": {
          "base_uri": "https://localhost:8080/",
          "height": 737
        },
        "id": "StNkWccem9yT",
        "outputId": "dc5ad9dd-b1ba-4d3f-bac7-df296ab3c254"
      },
      "execution_count": 570,
      "outputs": [
        {
          "output_type": "stream",
          "name": "stdout",
          "text": [
            "Epoch 1/3\n"
          ]
        },
        {
          "output_type": "error",
          "ename": "ValueError",
          "evalue": "ignored",
          "traceback": [
            "\u001b[0;31m---------------------------------------------------------------------------\u001b[0m",
            "\u001b[0;31mValueError\u001b[0m                                Traceback (most recent call last)",
            "\u001b[0;32m<ipython-input-570-d5c9873facfb>\u001b[0m in \u001b[0;36m<cell line: 1>\u001b[0;34m()\u001b[0m\n\u001b[0;32m----> 1\u001b[0;31m history = model.fit(X_train, y_train, batch_size=32, epochs=3, \n\u001b[0m\u001b[1;32m      2\u001b[0m                     validation_data=(X_valid, y_valid))\n",
            "\u001b[0;32m/usr/local/lib/python3.10/dist-packages/keras/src/utils/traceback_utils.py\u001b[0m in \u001b[0;36merror_handler\u001b[0;34m(*args, **kwargs)\u001b[0m\n\u001b[1;32m     68\u001b[0m             \u001b[0;31m# To get the full stack trace, call:\u001b[0m\u001b[0;34m\u001b[0m\u001b[0;34m\u001b[0m\u001b[0m\n\u001b[1;32m     69\u001b[0m             \u001b[0;31m# `tf.debugging.disable_traceback_filtering()`\u001b[0m\u001b[0;34m\u001b[0m\u001b[0;34m\u001b[0m\u001b[0m\n\u001b[0;32m---> 70\u001b[0;31m             \u001b[0;32mraise\u001b[0m \u001b[0me\u001b[0m\u001b[0;34m.\u001b[0m\u001b[0mwith_traceback\u001b[0m\u001b[0;34m(\u001b[0m\u001b[0mfiltered_tb\u001b[0m\u001b[0;34m)\u001b[0m \u001b[0;32mfrom\u001b[0m \u001b[0;32mNone\u001b[0m\u001b[0;34m\u001b[0m\u001b[0;34m\u001b[0m\u001b[0m\n\u001b[0m\u001b[1;32m     71\u001b[0m         \u001b[0;32mfinally\u001b[0m\u001b[0;34m:\u001b[0m\u001b[0;34m\u001b[0m\u001b[0;34m\u001b[0m\u001b[0m\n\u001b[1;32m     72\u001b[0m             \u001b[0;32mdel\u001b[0m \u001b[0mfiltered_tb\u001b[0m\u001b[0;34m\u001b[0m\u001b[0;34m\u001b[0m\u001b[0m\n",
            "\u001b[0;32m/usr/local/lib/python3.10/dist-packages/keras/src/engine/training.py\u001b[0m in \u001b[0;36mtf__train_function\u001b[0;34m(iterator)\u001b[0m\n\u001b[1;32m     13\u001b[0m                 \u001b[0;32mtry\u001b[0m\u001b[0;34m:\u001b[0m\u001b[0;34m\u001b[0m\u001b[0;34m\u001b[0m\u001b[0m\n\u001b[1;32m     14\u001b[0m                     \u001b[0mdo_return\u001b[0m \u001b[0;34m=\u001b[0m \u001b[0;32mTrue\u001b[0m\u001b[0;34m\u001b[0m\u001b[0;34m\u001b[0m\u001b[0m\n\u001b[0;32m---> 15\u001b[0;31m                     \u001b[0mretval_\u001b[0m \u001b[0;34m=\u001b[0m \u001b[0mag__\u001b[0m\u001b[0;34m.\u001b[0m\u001b[0mconverted_call\u001b[0m\u001b[0;34m(\u001b[0m\u001b[0mag__\u001b[0m\u001b[0;34m.\u001b[0m\u001b[0mld\u001b[0m\u001b[0;34m(\u001b[0m\u001b[0mstep_function\u001b[0m\u001b[0;34m)\u001b[0m\u001b[0;34m,\u001b[0m \u001b[0;34m(\u001b[0m\u001b[0mag__\u001b[0m\u001b[0;34m.\u001b[0m\u001b[0mld\u001b[0m\u001b[0;34m(\u001b[0m\u001b[0mself\u001b[0m\u001b[0;34m)\u001b[0m\u001b[0;34m,\u001b[0m \u001b[0mag__\u001b[0m\u001b[0;34m.\u001b[0m\u001b[0mld\u001b[0m\u001b[0;34m(\u001b[0m\u001b[0miterator\u001b[0m\u001b[0;34m)\u001b[0m\u001b[0;34m)\u001b[0m\u001b[0;34m,\u001b[0m \u001b[0;32mNone\u001b[0m\u001b[0;34m,\u001b[0m \u001b[0mfscope\u001b[0m\u001b[0;34m)\u001b[0m\u001b[0;34m\u001b[0m\u001b[0;34m\u001b[0m\u001b[0m\n\u001b[0m\u001b[1;32m     16\u001b[0m                 \u001b[0;32mexcept\u001b[0m\u001b[0;34m:\u001b[0m\u001b[0;34m\u001b[0m\u001b[0;34m\u001b[0m\u001b[0m\n\u001b[1;32m     17\u001b[0m                     \u001b[0mdo_return\u001b[0m \u001b[0;34m=\u001b[0m \u001b[0;32mFalse\u001b[0m\u001b[0;34m\u001b[0m\u001b[0;34m\u001b[0m\u001b[0m\n",
            "\u001b[0;31mValueError\u001b[0m: in user code:\n\n    File \"/usr/local/lib/python3.10/dist-packages/keras/src/engine/training.py\", line 1377, in train_function  *\n        return step_function(self, iterator)\n    File \"/usr/local/lib/python3.10/dist-packages/keras/src/engine/training.py\", line 1360, in step_function  **\n        outputs = model.distribute_strategy.run(run_step, args=(data,))\n    File \"/usr/local/lib/python3.10/dist-packages/keras/src/engine/training.py\", line 1349, in run_step  **\n        outputs = model.train_step(data)\n    File \"/usr/local/lib/python3.10/dist-packages/keras/src/engine/training.py\", line 1126, in train_step\n        y_pred = self(x, training=True)\n    File \"/usr/local/lib/python3.10/dist-packages/keras/src/utils/traceback_utils.py\", line 70, in error_handler\n        raise e.with_traceback(filtered_tb) from None\n    File \"/usr/local/lib/python3.10/dist-packages/keras/src/engine/input_spec.py\", line 280, in assert_input_compatibility\n        raise ValueError(\n\n    ValueError: Exception encountered when calling layer 'model_56' (type Functional).\n    \n    Input 0 of layer \"conv2d_1022\" is incompatible with the layer: expected axis -1 of input shape to have value 3, but received input with shape (None, 128, 128, 1)\n    \n    Call arguments received by layer 'model_56' (type Functional):\n      • inputs=tf.Tensor(shape=(None, 128, 128, 1), dtype=float32)\n      • training=True\n      • mask=None\n"
          ]
        }
      ]
    },
    {
      "cell_type": "code",
      "source": [
        "from matplotlib import pyplot as plt\n",
        "loss = history.history['accuracy']\n",
        "val_loss = history.history['accuracy']\n",
        "epochs = range(1, len(loss) + 1)\n",
        "plt.plot(epochs, loss, 'y', label='Training loss')\n",
        "plt.plot(epochs, val_loss, 'r', label='Validation loss')\n",
        "plt.title('Training and validation loss')\n",
        "plt.xlabel('Epochs')\n",
        "plt.ylabel('Loss')\n",
        "plt.legend()\n",
        "plt.show()"
      ],
      "metadata": {
        "colab": {
          "base_uri": "https://localhost:8080/",
          "height": 472
        },
        "id": "QbAmViN6N5CL",
        "outputId": "d64037dd-5d90-490c-8603-0b525f0e939a"
      },
      "execution_count": 480,
      "outputs": [
        {
          "output_type": "display_data",
          "data": {
            "text/plain": [
              "<Figure size 640x480 with 1 Axes>"
            ],
            "image/png": "[encoded data removed]"
          },
          "metadata": {}
        }
      ]
    },
    {
      "cell_type": "code",
      "source": [
        "from keras.callbacks import EarlyStopping, ModelCheckpoint\n",
        "from keras import backend as K\n",
        "import pandas as pd\n",
        "import numpy as np\n",
        "import matplotlib.pyplot as plt\n",
        "import os\n",
        "import cv2\n",
        "import tensorflow as tf\n",
        "from tensorflow.keras import Input\n",
        "from tensorflow.keras.models import Model, load_model, save_model\n",
        "from tensorflow.keras.layers import Input, Activation, BatchNormalization, Lambda, Conv2D, Conv2DTranspose,MaxPooling2D, concatenate,UpSampling2D,Dropout\n",
        "from tensorflow.keras.optimizers import Adam\n",
        "from tensorflow.keras.callbacks import EarlyStopping, ModelCheckpoint,ReduceLROnPlateau\n",
        "from tensorflow.keras import backend as K\n",
        "from tensorflow.keras.preprocessing.image import ImageDataGenerator\n",
        "from sklearn.model_selection import KFold\n",
        "from tensorflow.keras.losses im\n",
        "\n",
        "import tensorflow as tf\n",
        "\n",
        "inputs = Input((128, 128, 3))\n",
        "c1 = Conv2D(16, (3, 3), activation='elu', kernel_initializer='he_normal', padding='same') (inputs)\n",
        "\n",
        "c1 = Conv2D(16, (3, 3), activation='elu', kernel_initializer='he_normal', padding='same') (c1)\n",
        "p1 = MaxPooling2D((2, 2)) (c1)\n",
        "\n",
        "c2 = Conv2D(32, (3, 3), activation='elu', kernel_initializer='he_normal', padding='same') (p1)\n",
        "\n",
        "c2 = Conv2D(32, (3, 3), activation='elu', kernel_initializer='he_normal', padding='same') (c2)\n",
        "p2 = MaxPooling2D((2, 2)) (c2)\n",
        "\n",
        "c3 = Conv2D(64, (3, 3), activation='elu', kernel_initializer='he_normal', padding='same') (p2)\n",
        "\n",
        "c3 = Conv2D(64, (3, 3), activation='elu', kernel_initializer='he_normal', padding='same') (c3)\n",
        "p3 = MaxPooling2D((2, 2)) (c3)"
      ],
      "metadata": {
        "id": "snGeUEhi6fNE"
      },
      "execution_count": null,
      "outputs": []
    },
    {
      "cell_type": "code",
      "source": [
        "# Set some parameters\n",
        "im_width = 128\n",
        "im_height = 128\n",
        "border = 3"
      ],
      "metadata": {
        "id": "dgIEHyEWV1et"
      },
      "execution_count": 551,
      "outputs": []
    },
    {
      "cell_type": "code",
      "source": [
        "X = np.zeros((len(train_images), im_height, im_width, 1), dtype=np.float32)\n",
        "y = np.zeros((len(test_images), im_height, im_width, 1), dtype=np.float32)\n"
      ],
      "metadata": {
        "id": "dV4dcnWYV4Lm"
      },
      "execution_count": 552,
      "outputs": []
    },
    {
      "cell_type": "code",
      "source": [
        "X_train, X_valid, y_train, y_valid = train_test_split(X, y, test_size=0.1, random_state=42)"
      ],
      "metadata": {
        "id": "PfrHhPaBWGK7"
      },
      "execution_count": 553,
      "outputs": []
    },
    {
      "cell_type": "code",
      "source": [
        "model.compile(optimizer=Adam(), loss=\"binary_crossentropy\", metrics=[\"accuracy\"])"
      ],
      "metadata": {
        "id": "wxvqbcFeYTpt"
      },
      "execution_count": 556,
      "outputs": []
    },
    {
      "cell_type": "code",
      "source": [
        "model.fit(X_train, y_train, batch_size=32, epochs=3,\n",
        "                    validation_data=(X_valid, y_valid))"
      ],
      "metadata": {
        "colab": {
          "base_uri": "https://localhost:8080/",
          "height": 737
        },
        "id": "NsEC_RwLYUl9",
        "outputId": "f87dbf7d-6c09-4412-fb3c-6c291cce069d"
      },
      "execution_count": 557,
      "outputs": [
        {
          "output_type": "stream",
          "name": "stdout",
          "text": [
            "Epoch 1/3\n"
          ]
        },
        {
          "output_type": "error",
          "ename": "ValueError",
          "evalue": "ignored",
          "traceback": [
            "\u001b[0;31m---------------------------------------------------------------------------\u001b[0m",
            "\u001b[0;31mValueError\u001b[0m                                Traceback (most recent call last)",
            "\u001b[0;32m<ipython-input-557-f718627f11b4>\u001b[0m in \u001b[0;36m<cell line: 1>\u001b[0;34m()\u001b[0m\n\u001b[0;32m----> 1\u001b[0;31m model.fit(X_train, y_train, batch_size=32, epochs=3, \n\u001b[0m\u001b[1;32m      2\u001b[0m                     validation_data=(X_valid, y_valid))\n",
            "\u001b[0;32m/usr/local/lib/python3.10/dist-packages/keras/src/utils/traceback_utils.py\u001b[0m in \u001b[0;36merror_handler\u001b[0;34m(*args, **kwargs)\u001b[0m\n\u001b[1;32m     68\u001b[0m             \u001b[0;31m# To get the full stack trace, call:\u001b[0m\u001b[0;34m\u001b[0m\u001b[0;34m\u001b[0m\u001b[0m\n\u001b[1;32m     69\u001b[0m             \u001b[0;31m# `tf.debugging.disable_traceback_filtering()`\u001b[0m\u001b[0;34m\u001b[0m\u001b[0;34m\u001b[0m\u001b[0m\n\u001b[0;32m---> 70\u001b[0;31m             \u001b[0;32mraise\u001b[0m \u001b[0me\u001b[0m\u001b[0;34m.\u001b[0m\u001b[0mwith_traceback\u001b[0m\u001b[0;34m(\u001b[0m\u001b[0mfiltered_tb\u001b[0m\u001b[0;34m)\u001b[0m \u001b[0;32mfrom\u001b[0m \u001b[0;32mNone\u001b[0m\u001b[0;34m\u001b[0m\u001b[0;34m\u001b[0m\u001b[0m\n\u001b[0m\u001b[1;32m     71\u001b[0m         \u001b[0;32mfinally\u001b[0m\u001b[0;34m:\u001b[0m\u001b[0;34m\u001b[0m\u001b[0;34m\u001b[0m\u001b[0m\n\u001b[1;32m     72\u001b[0m             \u001b[0;32mdel\u001b[0m \u001b[0mfiltered_tb\u001b[0m\u001b[0;34m\u001b[0m\u001b[0;34m\u001b[0m\u001b[0m\n",
            "\u001b[0;32m/usr/local/lib/python3.10/dist-packages/keras/src/engine/training.py\u001b[0m in \u001b[0;36mtf__train_function\u001b[0;34m(iterator)\u001b[0m\n\u001b[1;32m     13\u001b[0m                 \u001b[0;32mtry\u001b[0m\u001b[0;34m:\u001b[0m\u001b[0;34m\u001b[0m\u001b[0;34m\u001b[0m\u001b[0m\n\u001b[1;32m     14\u001b[0m                     \u001b[0mdo_return\u001b[0m \u001b[0;34m=\u001b[0m \u001b[0;32mTrue\u001b[0m\u001b[0;34m\u001b[0m\u001b[0;34m\u001b[0m\u001b[0m\n\u001b[0;32m---> 15\u001b[0;31m                     \u001b[0mretval_\u001b[0m \u001b[0;34m=\u001b[0m \u001b[0mag__\u001b[0m\u001b[0;34m.\u001b[0m\u001b[0mconverted_call\u001b[0m\u001b[0;34m(\u001b[0m\u001b[0mag__\u001b[0m\u001b[0;34m.\u001b[0m\u001b[0mld\u001b[0m\u001b[0;34m(\u001b[0m\u001b[0mstep_function\u001b[0m\u001b[0;34m)\u001b[0m\u001b[0;34m,\u001b[0m \u001b[0;34m(\u001b[0m\u001b[0mag__\u001b[0m\u001b[0;34m.\u001b[0m\u001b[0mld\u001b[0m\u001b[0;34m(\u001b[0m\u001b[0mself\u001b[0m\u001b[0;34m)\u001b[0m\u001b[0;34m,\u001b[0m \u001b[0mag__\u001b[0m\u001b[0;34m.\u001b[0m\u001b[0mld\u001b[0m\u001b[0;34m(\u001b[0m\u001b[0miterator\u001b[0m\u001b[0;34m)\u001b[0m\u001b[0;34m)\u001b[0m\u001b[0;34m,\u001b[0m \u001b[0;32mNone\u001b[0m\u001b[0;34m,\u001b[0m \u001b[0mfscope\u001b[0m\u001b[0;34m)\u001b[0m\u001b[0;34m\u001b[0m\u001b[0;34m\u001b[0m\u001b[0m\n\u001b[0m\u001b[1;32m     16\u001b[0m                 \u001b[0;32mexcept\u001b[0m\u001b[0;34m:\u001b[0m\u001b[0;34m\u001b[0m\u001b[0;34m\u001b[0m\u001b[0m\n\u001b[1;32m     17\u001b[0m                     \u001b[0mdo_return\u001b[0m \u001b[0;34m=\u001b[0m \u001b[0;32mFalse\u001b[0m\u001b[0;34m\u001b[0m\u001b[0;34m\u001b[0m\u001b[0m\n",
            "\u001b[0;31mValueError\u001b[0m: in user code:\n\n    File \"/usr/local/lib/python3.10/dist-packages/keras/src/engine/training.py\", line 1377, in train_function  *\n        return step_function(self, iterator)\n    File \"/usr/local/lib/python3.10/dist-packages/keras/src/engine/training.py\", line 1360, in step_function  **\n        outputs = model.distribute_strategy.run(run_step, args=(data,))\n    File \"/usr/local/lib/python3.10/dist-packages/keras/src/engine/training.py\", line 1349, in run_step  **\n        outputs = model.train_step(data)\n    File \"/usr/local/lib/python3.10/dist-packages/keras/src/engine/training.py\", line 1126, in train_step\n        y_pred = self(x, training=True)\n    File \"/usr/local/lib/python3.10/dist-packages/keras/src/utils/traceback_utils.py\", line 70, in error_handler\n        raise e.with_traceback(filtered_tb) from None\n    File \"/usr/local/lib/python3.10/dist-packages/keras/src/engine/input_spec.py\", line 280, in assert_input_compatibility\n        raise ValueError(\n\n    ValueError: Exception encountered when calling layer 'model_53' (type Functional).\n    \n    Input 0 of layer \"conv2d_965\" is incompatible with the layer: expected axis -1 of input shape to have value 3, but received input with shape (None, 128, 128, 1)\n    \n    Call arguments received by layer 'model_53' (type Functional):\n      • inputs=tf.Tensor(shape=(None, 128, 128, 1), dtype=float32)\n      • training=True\n      • mask=None\n"
          ]
        }
      ]
    }
  ]
}