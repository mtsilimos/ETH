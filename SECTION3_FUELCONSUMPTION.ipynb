{
 "cells": [
  {
   "cell_type": "code",
   "execution_count": 1,
   "id": "1d1d3677-aa59-4796-91ce-bf540f183ced",
   "metadata": {},
   "outputs": [],
   "source": [
    "# Tutorial 1\n",
    "\n",
    "import pandas as pd\n",
    "import numpy as np\n",
    "\n"
   ]
  },
  {
   "cell_type": "code",
   "execution_count": 2,
   "id": "3e31f990-9b5b-4862-af48-7873673e00aa",
   "metadata": {},
   "outputs": [
    {
     "data": {
      "text/html": [
       "<div>\n",
       "<style scoped>\n",
       "    .dataframe tbody tr th:only-of-type {\n",
       "        vertical-align: middle;\n",
       "    }\n",
       "\n",
       "    .dataframe tbody tr th {\n",
       "        vertical-align: top;\n",
       "    }\n",
       "\n",
       "    .dataframe thead th {\n",
       "        text-align: right;\n",
       "    }\n",
       "</style>\n",
       "<table border=\"1\" class=\"dataframe\">\n",
       "  <thead>\n",
       "    <tr style=\"text-align: right;\">\n",
       "      <th></th>\n",
       "      <th>Model-Year</th>\n",
       "      <th>Make</th>\n",
       "      <th>Model</th>\n",
       "      <th>Vehicle-Class</th>\n",
       "      <th>Engine-Size</th>\n",
       "      <th>Cylinders</th>\n",
       "      <th>Transmission</th>\n",
       "      <th>Fuel-Type</th>\n",
       "      <th>Fuel-Consumption-City</th>\n",
       "      <th>Fuel-Consumption-Hwy</th>\n",
       "      <th>Fuel-Consumption-Comb</th>\n",
       "      <th>CO2-Emissions</th>\n",
       "    </tr>\n",
       "  </thead>\n",
       "  <tbody>\n",
       "    <tr>\n",
       "      <th>0</th>\n",
       "      <td>NaN</td>\n",
       "      <td>Acura</td>\n",
       "      <td>ILX</td>\n",
       "      <td>Compact</td>\n",
       "      <td>2.4</td>\n",
       "      <td>4</td>\n",
       "      <td>AM8</td>\n",
       "      <td>Z</td>\n",
       "      <td>9.9</td>\n",
       "      <td>7.0</td>\n",
       "      <td>8.6</td>\n",
       "      <td>199</td>\n",
       "    </tr>\n",
       "    <tr>\n",
       "      <th>1</th>\n",
       "      <td>NaN</td>\n",
       "      <td>Acura</td>\n",
       "      <td>MDX SH-AWD</td>\n",
       "      <td>SUV: Small</td>\n",
       "      <td>3.5</td>\n",
       "      <td>6</td>\n",
       "      <td>AS9</td>\n",
       "      <td>Z</td>\n",
       "      <td>12.2</td>\n",
       "      <td>9.0</td>\n",
       "      <td>10.8</td>\n",
       "      <td>252</td>\n",
       "    </tr>\n",
       "    <tr>\n",
       "      <th>2</th>\n",
       "      <td>NaN</td>\n",
       "      <td>Acura</td>\n",
       "      <td>MDX SH-AWD A-SPEC</td>\n",
       "      <td>SUV: Small</td>\n",
       "      <td>3.5</td>\n",
       "      <td>6</td>\n",
       "      <td>AS9</td>\n",
       "      <td>Z</td>\n",
       "      <td>NaN</td>\n",
       "      <td>9.5</td>\n",
       "      <td>11.0</td>\n",
       "      <td>258</td>\n",
       "    </tr>\n",
       "    <tr>\n",
       "      <th>3</th>\n",
       "      <td>NaN</td>\n",
       "      <td>Acura</td>\n",
       "      <td>MDX Hybrid AWD</td>\n",
       "      <td>SUV: Small</td>\n",
       "      <td>3.0</td>\n",
       "      <td>6</td>\n",
       "      <td>AM7</td>\n",
       "      <td>Z</td>\n",
       "      <td>9.1</td>\n",
       "      <td>9.0</td>\n",
       "      <td>9.0</td>\n",
       "      <td>210</td>\n",
       "    </tr>\n",
       "    <tr>\n",
       "      <th>4</th>\n",
       "      <td>NaN</td>\n",
       "      <td>Acura</td>\n",
       "      <td>NSX</td>\n",
       "      <td>Two-seater</td>\n",
       "      <td>3.5</td>\n",
       "      <td>6</td>\n",
       "      <td>AM9</td>\n",
       "      <td>Z</td>\n",
       "      <td>11.1</td>\n",
       "      <td>10.8</td>\n",
       "      <td>11.0</td>\n",
       "      <td>261</td>\n",
       "    </tr>\n",
       "  </tbody>\n",
       "</table>\n",
       "</div>"
      ],
      "text/plain": [
       "   Model-Year   Make              Model Vehicle-Class  Engine-Size  Cylinders  \\\n",
       "0         NaN  Acura                ILX       Compact          2.4          4   \n",
       "1         NaN  Acura         MDX SH-AWD    SUV: Small          3.5          6   \n",
       "2         NaN  Acura  MDX SH-AWD A-SPEC    SUV: Small          3.5          6   \n",
       "3         NaN  Acura     MDX Hybrid AWD    SUV: Small          3.0          6   \n",
       "4         NaN  Acura                NSX    Two-seater          3.5          6   \n",
       "\n",
       "  Transmission Fuel-Type  Fuel-Consumption-City  Fuel-Consumption-Hwy  \\\n",
       "0          AM8         Z                    9.9                   7.0   \n",
       "1          AS9         Z                   12.2                   9.0   \n",
       "2          AS9         Z                    NaN                   9.5   \n",
       "3          AM7         Z                    9.1                   9.0   \n",
       "4          AM9         Z                   11.1                  10.8   \n",
       "\n",
       "   Fuel-Consumption-Comb  CO2-Emissions  \n",
       "0                    8.6            199  \n",
       "1                   10.8            252  \n",
       "2                   11.0            258  \n",
       "3                    9.0            210  \n",
       "4                   11.0            261  "
      ]
     },
     "execution_count": 2,
     "metadata": {},
     "output_type": "execute_result"
    }
   ],
   "source": [
    "pd.set_option('display.max_rows', None) \n",
    "dataset = pd.read_csv(r'C:\\Users\\mtsil\\OneDrive\\Documents\\fuel.csv')  \n",
    "dataset.head()"
   ]
  },
  {
   "cell_type": "code",
   "execution_count": 3,
   "id": "8b8e4d9b-4549-4701-9489-e7c05f9e2555",
   "metadata": {},
   "outputs": [
    {
     "data": {
      "text/plain": [
       "(1046, 12)"
      ]
     },
     "execution_count": 3,
     "metadata": {},
     "output_type": "execute_result"
    }
   ],
   "source": [
    "dataset.shape"
   ]
  },
  {
   "cell_type": "code",
   "execution_count": 4,
   "id": "ea207d7a-e21b-4f32-9661-e60ff1c5bec1",
   "metadata": {},
   "outputs": [
    {
     "data": {
      "text/plain": [
       "(1046, 11)"
      ]
     },
     "execution_count": 4,
     "metadata": {},
     "output_type": "execute_result"
    }
   ],
   "source": [
    "dataset.dropna(axis=1, thresh = 700, inplace = True)\n",
    "dataset.shape"
   ]
  },
  {
   "cell_type": "code",
   "execution_count": 5,
   "id": "1df78ecf-ad1d-4ff6-98c4-6611a27e43d4",
   "metadata": {},
   "outputs": [],
   "source": [
    "from sklearn.pipeline import make_pipeline \n",
    "from sklearn.impute import SimpleImputer \n",
    "from sklearn.preprocessing import OneHotEncoder \n",
    "from sklearn.compose import ColumnTransformer "
   ]
  },
  {
   "cell_type": "code",
   "execution_count": 6,
   "id": "d33c5396-8023-49d4-bdbf-898507515fd5",
   "metadata": {},
   "outputs": [],
   "source": [
    "num_cols = dataset.select_dtypes(exclude=['object']).columns.tolist() #get the columns with the numerical data\n",
    "cat_cols = dataset.select_dtypes(include=['object']).columns.tolist() #get the columns with the categorical data"
   ]
  },
  {
   "cell_type": "code",
   "execution_count": 7,
   "id": "bd7ea6b7-17da-4a08-8e5b-c51df924bb9c",
   "metadata": {},
   "outputs": [],
   "source": [
    "num_pipeline = make_pipeline(\n",
    "    SimpleImputer(strategy = 'median'),\n",
    "     \n",
    ")\n",
    "\n",
    "\n",
    "cat_pipeline = make_pipeline(\n",
    "    SimpleImputer(missing_values = np.nan, strategy='most_frequent'),\n",
    "    OneHotEncoder(drop = 'if_binary', max_categories = 4, handle_unknown='ignore',sparse=False)\n",
    ")"
   ]
  },
  {
   "cell_type": "code",
   "execution_count": 8,
   "id": "b10d7623-a6f7-479a-8bef-8fab219db7e9",
   "metadata": {},
   "outputs": [],
   "source": [
    "combined_pipeline = ColumnTransformer([\n",
    "    ('num', num_pipeline, num_cols),\n",
    "    ('cat', cat_pipeline, cat_cols)\n",
    "], remainder = 'passthrough')"
   ]
  },
  {
   "cell_type": "code",
   "execution_count": 9,
   "id": "a3a4903b-162b-43e0-aea9-d6984daae632",
   "metadata": {},
   "outputs": [
    {
     "name": "stderr",
     "output_type": "stream",
     "text": [
      "c:\\users\\mtsil\\appdata\\local\\programs\\python\\python39\\lib\\site-packages\\sklearn\\preprocessing\\_encoders.py:975: FutureWarning: `sparse` was renamed to `sparse_output` in version 1.2 and will be removed in 1.4. `sparse_output` is ignored unless you leave `sparse` to its default value.\n",
      "  warnings.warn(\n"
     ]
    }
   ],
   "source": [
    "transformed_dataset = combined_pipeline.fit_transform(dataset) "
   ]
  },
  {
   "cell_type": "code",
   "execution_count": 10,
   "id": "2fbe2887-d70a-420c-b80f-3b0d17a9ded0",
   "metadata": {},
   "outputs": [],
   "source": [
    "feature_names = combined_pipeline.get_feature_names_out() "
   ]
  },
  {
   "cell_type": "code",
   "execution_count": 11,
   "id": "2982a3df-6f6d-4ddc-87be-0066c7531ae9",
   "metadata": {},
   "outputs": [
    {
     "data": {
      "text/html": [
       "<div>\n",
       "<style scoped>\n",
       "    .dataframe tbody tr th:only-of-type {\n",
       "        vertical-align: middle;\n",
       "    }\n",
       "\n",
       "    .dataframe tbody tr th {\n",
       "        vertical-align: top;\n",
       "    }\n",
       "\n",
       "    .dataframe thead th {\n",
       "        text-align: right;\n",
       "    }\n",
       "</style>\n",
       "<table border=\"1\" class=\"dataframe\">\n",
       "  <thead>\n",
       "    <tr style=\"text-align: right;\">\n",
       "      <th></th>\n",
       "      <th>num__Engine-Size</th>\n",
       "      <th>num__Cylinders</th>\n",
       "      <th>num__Fuel-Consumption-City</th>\n",
       "      <th>num__Fuel-Consumption-Hwy</th>\n",
       "      <th>num__Fuel-Consumption-Comb</th>\n",
       "      <th>num__CO2-Emissions</th>\n",
       "      <th>cat__Make_Chevrolet</th>\n",
       "      <th>cat__Make_Ford</th>\n",
       "      <th>cat__Make_Mercedes-Benz</th>\n",
       "      <th>cat__Make_infrequent_sklearn</th>\n",
       "      <th>cat__Model_Sierra 4WD</th>\n",
       "      <th>cat__Model_Silverado</th>\n",
       "      <th>cat__Model_Silverado 4WD</th>\n",
       "      <th>cat__Model_infrequent_sklearn</th>\n",
       "      <th>cat__Vehicle-Class_Mid-size</th>\n",
       "      <th>cat__Vehicle-Class_SUV: Small</th>\n",
       "      <th>cat__Vehicle-Class_SUV: Standard</th>\n",
       "      <th>cat__Vehicle-Class_infrequent_sklearn</th>\n",
       "      <th>cat__Transmission_AS6</th>\n",
       "      <th>cat__Transmission_AS8</th>\n",
       "      <th>cat__Transmission_M6</th>\n",
       "      <th>cat__Transmission_infrequent_sklearn</th>\n",
       "      <th>cat__Fuel-Type_E</th>\n",
       "      <th>cat__Fuel-Type_X</th>\n",
       "      <th>cat__Fuel-Type_Z</th>\n",
       "      <th>cat__Fuel-Type_infrequent_sklearn</th>\n",
       "    </tr>\n",
       "  </thead>\n",
       "  <tbody>\n",
       "    <tr>\n",
       "      <th>0</th>\n",
       "      <td>2.4</td>\n",
       "      <td>4.0</td>\n",
       "      <td>9.9</td>\n",
       "      <td>7.0</td>\n",
       "      <td>8.6</td>\n",
       "      <td>199.0</td>\n",
       "      <td>0.0</td>\n",
       "      <td>0.0</td>\n",
       "      <td>0.0</td>\n",
       "      <td>1.0</td>\n",
       "      <td>0.0</td>\n",
       "      <td>0.0</td>\n",
       "      <td>0.0</td>\n",
       "      <td>1.0</td>\n",
       "      <td>0.0</td>\n",
       "      <td>0.0</td>\n",
       "      <td>0.0</td>\n",
       "      <td>1.0</td>\n",
       "      <td>0.0</td>\n",
       "      <td>0.0</td>\n",
       "      <td>0.0</td>\n",
       "      <td>1.0</td>\n",
       "      <td>0.0</td>\n",
       "      <td>0.0</td>\n",
       "      <td>1.0</td>\n",
       "      <td>0.0</td>\n",
       "    </tr>\n",
       "    <tr>\n",
       "      <th>1</th>\n",
       "      <td>3.5</td>\n",
       "      <td>6.0</td>\n",
       "      <td>12.2</td>\n",
       "      <td>9.0</td>\n",
       "      <td>10.8</td>\n",
       "      <td>252.0</td>\n",
       "      <td>0.0</td>\n",
       "      <td>0.0</td>\n",
       "      <td>0.0</td>\n",
       "      <td>1.0</td>\n",
       "      <td>0.0</td>\n",
       "      <td>0.0</td>\n",
       "      <td>0.0</td>\n",
       "      <td>1.0</td>\n",
       "      <td>0.0</td>\n",
       "      <td>1.0</td>\n",
       "      <td>0.0</td>\n",
       "      <td>0.0</td>\n",
       "      <td>0.0</td>\n",
       "      <td>0.0</td>\n",
       "      <td>0.0</td>\n",
       "      <td>1.0</td>\n",
       "      <td>0.0</td>\n",
       "      <td>0.0</td>\n",
       "      <td>1.0</td>\n",
       "      <td>0.0</td>\n",
       "    </tr>\n",
       "    <tr>\n",
       "      <th>2</th>\n",
       "      <td>3.5</td>\n",
       "      <td>6.0</td>\n",
       "      <td>12.0</td>\n",
       "      <td>9.5</td>\n",
       "      <td>11.0</td>\n",
       "      <td>258.0</td>\n",
       "      <td>0.0</td>\n",
       "      <td>0.0</td>\n",
       "      <td>0.0</td>\n",
       "      <td>1.0</td>\n",
       "      <td>0.0</td>\n",
       "      <td>0.0</td>\n",
       "      <td>0.0</td>\n",
       "      <td>1.0</td>\n",
       "      <td>0.0</td>\n",
       "      <td>1.0</td>\n",
       "      <td>0.0</td>\n",
       "      <td>0.0</td>\n",
       "      <td>0.0</td>\n",
       "      <td>0.0</td>\n",
       "      <td>0.0</td>\n",
       "      <td>1.0</td>\n",
       "      <td>0.0</td>\n",
       "      <td>0.0</td>\n",
       "      <td>1.0</td>\n",
       "      <td>0.0</td>\n",
       "    </tr>\n",
       "    <tr>\n",
       "      <th>3</th>\n",
       "      <td>3.0</td>\n",
       "      <td>6.0</td>\n",
       "      <td>9.1</td>\n",
       "      <td>9.0</td>\n",
       "      <td>9.0</td>\n",
       "      <td>210.0</td>\n",
       "      <td>0.0</td>\n",
       "      <td>0.0</td>\n",
       "      <td>0.0</td>\n",
       "      <td>1.0</td>\n",
       "      <td>0.0</td>\n",
       "      <td>0.0</td>\n",
       "      <td>0.0</td>\n",
       "      <td>1.0</td>\n",
       "      <td>0.0</td>\n",
       "      <td>1.0</td>\n",
       "      <td>0.0</td>\n",
       "      <td>0.0</td>\n",
       "      <td>0.0</td>\n",
       "      <td>0.0</td>\n",
       "      <td>0.0</td>\n",
       "      <td>1.0</td>\n",
       "      <td>0.0</td>\n",
       "      <td>0.0</td>\n",
       "      <td>1.0</td>\n",
       "      <td>0.0</td>\n",
       "    </tr>\n",
       "    <tr>\n",
       "      <th>4</th>\n",
       "      <td>3.5</td>\n",
       "      <td>6.0</td>\n",
       "      <td>11.1</td>\n",
       "      <td>10.8</td>\n",
       "      <td>11.0</td>\n",
       "      <td>261.0</td>\n",
       "      <td>0.0</td>\n",
       "      <td>0.0</td>\n",
       "      <td>0.0</td>\n",
       "      <td>1.0</td>\n",
       "      <td>0.0</td>\n",
       "      <td>0.0</td>\n",
       "      <td>0.0</td>\n",
       "      <td>1.0</td>\n",
       "      <td>0.0</td>\n",
       "      <td>0.0</td>\n",
       "      <td>0.0</td>\n",
       "      <td>1.0</td>\n",
       "      <td>0.0</td>\n",
       "      <td>0.0</td>\n",
       "      <td>0.0</td>\n",
       "      <td>1.0</td>\n",
       "      <td>0.0</td>\n",
       "      <td>0.0</td>\n",
       "      <td>1.0</td>\n",
       "      <td>0.0</td>\n",
       "    </tr>\n",
       "  </tbody>\n",
       "</table>\n",
       "</div>"
      ],
      "text/plain": [
       "   num__Engine-Size  num__Cylinders  num__Fuel-Consumption-City  \\\n",
       "0               2.4             4.0                         9.9   \n",
       "1               3.5             6.0                        12.2   \n",
       "2               3.5             6.0                        12.0   \n",
       "3               3.0             6.0                         9.1   \n",
       "4               3.5             6.0                        11.1   \n",
       "\n",
       "   num__Fuel-Consumption-Hwy  num__Fuel-Consumption-Comb  num__CO2-Emissions  \\\n",
       "0                        7.0                         8.6               199.0   \n",
       "1                        9.0                        10.8               252.0   \n",
       "2                        9.5                        11.0               258.0   \n",
       "3                        9.0                         9.0               210.0   \n",
       "4                       10.8                        11.0               261.0   \n",
       "\n",
       "   cat__Make_Chevrolet  cat__Make_Ford  cat__Make_Mercedes-Benz  \\\n",
       "0                  0.0             0.0                      0.0   \n",
       "1                  0.0             0.0                      0.0   \n",
       "2                  0.0             0.0                      0.0   \n",
       "3                  0.0             0.0                      0.0   \n",
       "4                  0.0             0.0                      0.0   \n",
       "\n",
       "   cat__Make_infrequent_sklearn  cat__Model_Sierra 4WD  cat__Model_Silverado  \\\n",
       "0                           1.0                    0.0                   0.0   \n",
       "1                           1.0                    0.0                   0.0   \n",
       "2                           1.0                    0.0                   0.0   \n",
       "3                           1.0                    0.0                   0.0   \n",
       "4                           1.0                    0.0                   0.0   \n",
       "\n",
       "   cat__Model_Silverado 4WD  cat__Model_infrequent_sklearn  \\\n",
       "0                       0.0                            1.0   \n",
       "1                       0.0                            1.0   \n",
       "2                       0.0                            1.0   \n",
       "3                       0.0                            1.0   \n",
       "4                       0.0                            1.0   \n",
       "\n",
       "   cat__Vehicle-Class_Mid-size  cat__Vehicle-Class_SUV: Small  \\\n",
       "0                          0.0                            0.0   \n",
       "1                          0.0                            1.0   \n",
       "2                          0.0                            1.0   \n",
       "3                          0.0                            1.0   \n",
       "4                          0.0                            0.0   \n",
       "\n",
       "   cat__Vehicle-Class_SUV: Standard  cat__Vehicle-Class_infrequent_sklearn  \\\n",
       "0                               0.0                                    1.0   \n",
       "1                               0.0                                    0.0   \n",
       "2                               0.0                                    0.0   \n",
       "3                               0.0                                    0.0   \n",
       "4                               0.0                                    1.0   \n",
       "\n",
       "   cat__Transmission_AS6  cat__Transmission_AS8  cat__Transmission_M6  \\\n",
       "0                    0.0                    0.0                   0.0   \n",
       "1                    0.0                    0.0                   0.0   \n",
       "2                    0.0                    0.0                   0.0   \n",
       "3                    0.0                    0.0                   0.0   \n",
       "4                    0.0                    0.0                   0.0   \n",
       "\n",
       "   cat__Transmission_infrequent_sklearn  cat__Fuel-Type_E  cat__Fuel-Type_X  \\\n",
       "0                                   1.0               0.0               0.0   \n",
       "1                                   1.0               0.0               0.0   \n",
       "2                                   1.0               0.0               0.0   \n",
       "3                                   1.0               0.0               0.0   \n",
       "4                                   1.0               0.0               0.0   \n",
       "\n",
       "   cat__Fuel-Type_Z  cat__Fuel-Type_infrequent_sklearn  \n",
       "0               1.0                                0.0  \n",
       "1               1.0                                0.0  \n",
       "2               1.0                                0.0  \n",
       "3               1.0                                0.0  \n",
       "4               1.0                                0.0  "
      ]
     },
     "execution_count": 11,
     "metadata": {},
     "output_type": "execute_result"
    }
   ],
   "source": [
    "pd.set_option('display.max_columns', None) \n",
    "final_dataset = pd.DataFrame(transformed_dataset, columns = feature_names)\n",
    "final_dataset.head()"
   ]
  },
  {
   "cell_type": "code",
   "execution_count": 12,
   "id": "537a0247-c86d-4f28-8dc6-366dc6657e0b",
   "metadata": {},
   "outputs": [],
   "source": [
    "X = final_dataset[['num__Fuel-Consumption-City', 'cat__Vehicle-Class_Mid-size']]"
   ]
  },
  {
   "cell_type": "code",
   "execution_count": 13,
   "id": "c3ffe016-ec86-4489-b3f7-ffeac0b7d2c3",
   "metadata": {},
   "outputs": [
    {
     "data": {
      "text/html": [
       "<div>\n",
       "<style scoped>\n",
       "    .dataframe tbody tr th:only-of-type {\n",
       "        vertical-align: middle;\n",
       "    }\n",
       "\n",
       "    .dataframe tbody tr th {\n",
       "        vertical-align: top;\n",
       "    }\n",
       "\n",
       "    .dataframe thead th {\n",
       "        text-align: right;\n",
       "    }\n",
       "</style>\n",
       "<table border=\"1\" class=\"dataframe\">\n",
       "  <thead>\n",
       "    <tr style=\"text-align: right;\">\n",
       "      <th></th>\n",
       "      <th>num__Fuel-Consumption-City</th>\n",
       "      <th>cat__Vehicle-Class_Mid-size</th>\n",
       "    </tr>\n",
       "  </thead>\n",
       "  <tbody>\n",
       "    <tr>\n",
       "      <th>num__Fuel-Consumption-City</th>\n",
       "      <td>1.00</td>\n",
       "      <td>-0.23</td>\n",
       "    </tr>\n",
       "    <tr>\n",
       "      <th>cat__Vehicle-Class_Mid-size</th>\n",
       "      <td>-0.23</td>\n",
       "      <td>1.00</td>\n",
       "    </tr>\n",
       "  </tbody>\n",
       "</table>\n",
       "</div>"
      ],
      "text/plain": [
       "                             num__Fuel-Consumption-City  \\\n",
       "num__Fuel-Consumption-City                         1.00   \n",
       "cat__Vehicle-Class_Mid-size                       -0.23   \n",
       "\n",
       "                             cat__Vehicle-Class_Mid-size  \n",
       "num__Fuel-Consumption-City                         -0.23  \n",
       "cat__Vehicle-Class_Mid-size                         1.00  "
      ]
     },
     "execution_count": 13,
     "metadata": {},
     "output_type": "execute_result"
    }
   ],
   "source": [
    "corr = X.corr(method='pearson')\n",
    "corr.round(2)"
   ]
  },
  {
   "cell_type": "code",
   "execution_count": 14,
   "id": "a898638e-0f7e-49d6-b30b-ed733897e5eb",
   "metadata": {},
   "outputs": [
    {
     "data": {
      "text/plain": [
       "Text(0.5, 1.0, 'Correlation Matrix')"
      ]
     },
     "execution_count": 14,
     "metadata": {},
     "output_type": "execute_result"
    },
    {
     "data": {
      "image/png": "[encoded data removed]",
      "text/plain": [
       "<Figure size 800x400 with 2 Axes>"
      ]
     },
     "metadata": {},
     "output_type": "display_data"
    }
   ],
   "source": [
    "import seaborn as sns\n",
    "import matplotlib.pyplot as plt\n",
    "plt.figure(figsize=(8, 4))\n",
    "\n",
    "sns.heatmap(corr, annot=True)\n",
    "\n",
    "\n",
    "plt.title('Correlation Matrix')"
   ]
  },
  {
   "cell_type": "code",
   "execution_count": 15,
   "id": "b41d3cd0-9371-4242-a76a-da591caa4af6",
   "metadata": {},
   "outputs": [],
   "source": [
    "X = final_dataset[['num__Fuel-Consumption-City', 'cat__Vehicle-Class_Mid-size']]\n",
    "y = final_dataset['num__CO2-Emissions']"
   ]
  },
  {
   "cell_type": "code",
   "execution_count": 16,
   "id": "078da62d-6c8e-4e9b-ab39-e979252979da",
   "metadata": {},
   "outputs": [],
   "source": [
    "from sklearn.linear_model import LinearRegression\n",
    "from sklearn.model_selection import train_test_split\n",
    "X_train, X_test, y_train, y_test = train_test_split(X, y, test_size = 0.2, random_state = 100)"
   ]
  },
  {
   "cell_type": "code",
   "execution_count": 17,
   "id": "01149db2-d0be-46c8-8274-3db13ff1af3f",
   "metadata": {},
   "outputs": [
    {
     "data": {
      "text/html": [
       "<style>#sk-container-id-1 {color: black;}#sk-container-id-1 pre{padding: 0;}#sk-container-id-1 div.sk-toggleable {background-color: white;}#sk-container-id-1 label.sk-toggleable__label {cursor: pointer;display: block;width: 100%;margin-bottom: 0;padding: 0.3em;box-sizing: border-box;text-align: center;}#sk-container-id-1 label.sk-toggleable__label-arrow:before {content: \"▸\";float: left;margin-right: 0.25em;color: #696969;}#sk-container-id-1 label.sk-toggleable__label-arrow:hover:before {color: black;}#sk-container-id-1 div.sk-estimator:hover label.sk-toggleable__label-arrow:before {color: black;}#sk-container-id-1 div.sk-toggleable__content {max-height: 0;max-width: 0;overflow: hidden;text-align: left;background-color: #f0f8ff;}#sk-container-id-1 div.sk-toggleable__content pre {margin: 0.2em;color: black;border-radius: 0.25em;background-color: #f0f8ff;}#sk-container-id-1 input.sk-toggleable__control:checked~div.sk-toggleable__content {max-height: 200px;max-width: 100%;overflow: auto;}#sk-container-id-1 input.sk-toggleable__control:checked~label.sk-toggleable__label-arrow:before {content: \"▾\";}#sk-container-id-1 div.sk-estimator input.sk-toggleable__control:checked~label.sk-toggleable__label {background-color: #d4ebff;}#sk-container-id-1 div.sk-label input.sk-toggleable__control:checked~label.sk-toggleable__label {background-color: #d4ebff;}#sk-container-id-1 input.sk-hidden--visually {border: 0;clip: rect(1px 1px 1px 1px);clip: rect(1px, 1px, 1px, 1px);height: 1px;margin: -1px;overflow: hidden;padding: 0;position: absolute;width: 1px;}#sk-container-id-1 div.sk-estimator {font-family: monospace;background-color: #f0f8ff;border: 1px dotted black;border-radius: 0.25em;box-sizing: border-box;margin-bottom: 0.5em;}#sk-container-id-1 div.sk-estimator:hover {background-color: #d4ebff;}#sk-container-id-1 div.sk-parallel-item::after {content: \"\";width: 100%;border-bottom: 1px solid gray;flex-grow: 1;}#sk-container-id-1 div.sk-label:hover label.sk-toggleable__label {background-color: #d4ebff;}#sk-container-id-1 div.sk-serial::before {content: \"\";position: absolute;border-left: 1px solid gray;box-sizing: border-box;top: 0;bottom: 0;left: 50%;z-index: 0;}#sk-container-id-1 div.sk-serial {display: flex;flex-direction: column;align-items: center;background-color: white;padding-right: 0.2em;padding-left: 0.2em;position: relative;}#sk-container-id-1 div.sk-item {position: relative;z-index: 1;}#sk-container-id-1 div.sk-parallel {display: flex;align-items: stretch;justify-content: center;background-color: white;position: relative;}#sk-container-id-1 div.sk-item::before, #sk-container-id-1 div.sk-parallel-item::before {content: \"\";position: absolute;border-left: 1px solid gray;box-sizing: border-box;top: 0;bottom: 0;left: 50%;z-index: -1;}#sk-container-id-1 div.sk-parallel-item {display: flex;flex-direction: column;z-index: 1;position: relative;background-color: white;}#sk-container-id-1 div.sk-parallel-item:first-child::after {align-self: flex-end;width: 50%;}#sk-container-id-1 div.sk-parallel-item:last-child::after {align-self: flex-start;width: 50%;}#sk-container-id-1 div.sk-parallel-item:only-child::after {width: 0;}#sk-container-id-1 div.sk-dashed-wrapped {border: 1px dashed gray;margin: 0 0.4em 0.5em 0.4em;box-sizing: border-box;padding-bottom: 0.4em;background-color: white;}#sk-container-id-1 div.sk-label label {font-family: monospace;font-weight: bold;display: inline-block;line-height: 1.2em;}#sk-container-id-1 div.sk-label-container {text-align: center;}#sk-container-id-1 div.sk-container {/* jupyter's `normalize.less` sets `[hidden] { display: none; }` but bootstrap.min.css set `[hidden] { display: none !important; }` so we also need the `!important` here to be able to override the default hidden behavior on the sphinx rendered scikit-learn.org. See: https://github.com/scikit-learn/scikit-learn/issues/21755 */display: inline-block !important;position: relative;}#sk-container-id-1 div.sk-text-repr-fallback {display: none;}</style><div id=\"sk-container-id-1\" class=\"sk-top-container\"><div class=\"sk-text-repr-fallback\"><pre>LinearRegression()</pre><b>In a Jupyter environment, please rerun this cell to show the HTML representation or trust the notebook. <br />On GitHub, the HTML representation is unable to render, please try loading this page with nbviewer.org.</b></div><div class=\"sk-container\" hidden><div class=\"sk-item\"><div class=\"sk-estimator sk-toggleable\"><input class=\"sk-toggleable__control sk-hidden--visually\" id=\"sk-estimator-id-1\" type=\"checkbox\" checked><label for=\"sk-estimator-id-1\" class=\"sk-toggleable__label sk-toggleable__label-arrow\">LinearRegression</label><div class=\"sk-toggleable__content\"><pre>LinearRegression()</pre></div></div></div></div></div>"
      ],
      "text/plain": [
       "LinearRegression()"
      ]
     },
     "execution_count": 17,
     "metadata": {},
     "output_type": "execute_result"
    }
   ],
   "source": [
    "from sklearn.linear_model import LinearRegression\n",
    "model = LinearRegression()  \n",
    "model.fit(X_train, y_train)"
   ]
  },
  {
   "cell_type": "code",
   "execution_count": 18,
   "id": "1fd8cf2f-6e80-4c33-b66d-989ab0e9a601",
   "metadata": {},
   "outputs": [
    {
     "name": "stdout",
     "output_type": "stream",
     "text": [
      "Intercept:  49.89456553632078\n",
      "Coefficient:  [16.32922232 -3.61502936]\n"
     ]
    }
   ],
   "source": [
    "print(\"Intercept: \", model.intercept_)\n",
    "print(\"Coefficient: \", model.coef_)"
   ]
  },
  {
   "cell_type": "code",
   "execution_count": 19,
   "id": "0d870d83-bfbb-4ea1-ad2f-ec5606dbe1dc",
   "metadata": {},
   "outputs": [],
   "source": [
    "y_pred_model= model.predict(X_test)"
   ]
  },
  {
   "cell_type": "code",
   "execution_count": 20,
   "id": "f83496b1-c3b7-4c41-bc37-62e1cbc325a7",
   "metadata": {},
   "outputs": [
    {
     "data": {
      "text/html": [
       "<div>\n",
       "<style scoped>\n",
       "    .dataframe tbody tr th:only-of-type {\n",
       "        vertical-align: middle;\n",
       "    }\n",
       "\n",
       "    .dataframe tbody tr th {\n",
       "        vertical-align: top;\n",
       "    }\n",
       "\n",
       "    .dataframe thead th {\n",
       "        text-align: right;\n",
       "    }\n",
       "</style>\n",
       "<table border=\"1\" class=\"dataframe\">\n",
       "  <thead>\n",
       "    <tr style=\"text-align: right;\">\n",
       "      <th></th>\n",
       "      <th>Actual value</th>\n",
       "      <th>Predicted value</th>\n",
       "    </tr>\n",
       "  </thead>\n",
       "  <tbody>\n",
       "    <tr>\n",
       "      <th>399</th>\n",
       "      <td>329.0</td>\n",
       "      <td>307.896278</td>\n",
       "    </tr>\n",
       "    <tr>\n",
       "      <th>329</th>\n",
       "      <td>296.0</td>\n",
       "      <td>275.237834</td>\n",
       "    </tr>\n",
       "    <tr>\n",
       "      <th>124</th>\n",
       "      <td>204.0</td>\n",
       "      <td>203.389255</td>\n",
       "    </tr>\n",
       "    <tr>\n",
       "      <th>678</th>\n",
       "      <td>178.0</td>\n",
       "      <td>187.060033</td>\n",
       "    </tr>\n",
       "    <tr>\n",
       "      <th>216</th>\n",
       "      <td>314.0</td>\n",
       "      <td>306.263356</td>\n",
       "    </tr>\n",
       "  </tbody>\n",
       "</table>\n",
       "</div>"
      ],
      "text/plain": [
       "     Actual value  Predicted value\n",
       "399         329.0       307.896278\n",
       "329         296.0       275.237834\n",
       "124         204.0       203.389255\n",
       "678         178.0       187.060033\n",
       "216         314.0       306.263356"
      ]
     },
     "execution_count": 20,
     "metadata": {},
     "output_type": "execute_result"
    }
   ],
   "source": [
    "model_diff = pd.DataFrame({'Actual value': y_test, 'Predicted value': y_pred_model})\n",
    "model_diff.head()"
   ]
  },
  {
   "cell_type": "code",
   "execution_count": 21,
   "id": "ebab42b6-25bd-4dbd-a2f4-171594b8834c",
   "metadata": {},
   "outputs": [
    {
     "name": "stdout",
     "output_type": "stream",
     "text": [
      "R2 Score: 0.8480555676545569\n"
     ]
    }
   ],
   "source": [
    "from sklearn.metrics import r2_score\n",
    "\n",
    "r2 = r2_score(y_test, y_pred_model)\n",
    "print('R2 Score:', r2)"
   ]
  },
  {
   "cell_type": "code",
   "execution_count": 57,
   "id": "549b1d4d-fcd7-4a89-90c4-c36a90715330",
   "metadata": {},
   "outputs": [],
   "source": [
    "#Tutorial 2\n",
    "X1 = final_dataset[['num__Fuel-Consumption-City', 'cat__Vehicle-Class_Mid-size', 'num__Fuel-Consumption-Hwy']]\n",
    "y = final_dataset['num__CO2-Emissions']"
   ]
  },
  {
   "cell_type": "code",
   "execution_count": 58,
   "id": "0d80a10c-ee74-42e2-8a37-34c3fe68a750",
   "metadata": {},
   "outputs": [
    {
     "data": {
      "text/html": [
       "<div>\n",
       "<style scoped>\n",
       "    .dataframe tbody tr th:only-of-type {\n",
       "        vertical-align: middle;\n",
       "    }\n",
       "\n",
       "    .dataframe tbody tr th {\n",
       "        vertical-align: top;\n",
       "    }\n",
       "\n",
       "    .dataframe thead th {\n",
       "        text-align: right;\n",
       "    }\n",
       "</style>\n",
       "<table border=\"1\" class=\"dataframe\">\n",
       "  <thead>\n",
       "    <tr style=\"text-align: right;\">\n",
       "      <th></th>\n",
       "      <th>num__Fuel-Consumption-City</th>\n",
       "      <th>cat__Vehicle-Class_Mid-size</th>\n",
       "      <th>num__Fuel-Consumption-Hwy</th>\n",
       "    </tr>\n",
       "  </thead>\n",
       "  <tbody>\n",
       "    <tr>\n",
       "      <th>num__Fuel-Consumption-City</th>\n",
       "      <td>1.00</td>\n",
       "      <td>-0.23</td>\n",
       "      <td>0.94</td>\n",
       "    </tr>\n",
       "    <tr>\n",
       "      <th>cat__Vehicle-Class_Mid-size</th>\n",
       "      <td>-0.23</td>\n",
       "      <td>1.00</td>\n",
       "      <td>-0.27</td>\n",
       "    </tr>\n",
       "    <tr>\n",
       "      <th>num__Fuel-Consumption-Hwy</th>\n",
       "      <td>0.94</td>\n",
       "      <td>-0.27</td>\n",
       "      <td>1.00</td>\n",
       "    </tr>\n",
       "  </tbody>\n",
       "</table>\n",
       "</div>"
      ],
      "text/plain": [
       "                             num__Fuel-Consumption-City  \\\n",
       "num__Fuel-Consumption-City                         1.00   \n",
       "cat__Vehicle-Class_Mid-size                       -0.23   \n",
       "num__Fuel-Consumption-Hwy                          0.94   \n",
       "\n",
       "                             cat__Vehicle-Class_Mid-size  \\\n",
       "num__Fuel-Consumption-City                         -0.23   \n",
       "cat__Vehicle-Class_Mid-size                         1.00   \n",
       "num__Fuel-Consumption-Hwy                          -0.27   \n",
       "\n",
       "                             num__Fuel-Consumption-Hwy  \n",
       "num__Fuel-Consumption-City                        0.94  \n",
       "cat__Vehicle-Class_Mid-size                      -0.27  \n",
       "num__Fuel-Consumption-Hwy                         1.00  "
      ]
     },
     "execution_count": 58,
     "metadata": {},
     "output_type": "execute_result"
    }
   ],
   "source": [
    "corr = X1.corr(method='pearson')\n",
    "corr.round(2)"
   ]
  },
  {
   "cell_type": "code",
   "execution_count": 59,
   "id": "e63fa4c6-0be4-47e0-9a94-2ea1bad5e118",
   "metadata": {},
   "outputs": [
    {
     "data": {
      "text/plain": [
       "Text(0.5, 1.0, 'Correlation Matrix')"
      ]
     },
     "execution_count": 59,
     "metadata": {},
     "output_type": "execute_result"
    },
    {
     "data": {
      "image/png": "[encoded data removed]",
      "text/plain": [
       "<Figure size 800x400 with 2 Axes>"
      ]
     },
     "metadata": {},
     "output_type": "display_data"
    }
   ],
   "source": [
    "import seaborn as sns\n",
    "import matplotlib.pyplot as plt\n",
    "plt.figure(figsize=(8, 4))\n",
    "\n",
    "sns.heatmap(corr, annot=True)\n",
    "\n",
    "\n",
    "plt.title('Correlation Matrix')"
   ]
  },
  {
   "cell_type": "code",
   "execution_count": 60,
   "id": "2349f3a8-464f-4b34-a7a1-ee425dcfe74e",
   "metadata": {},
   "outputs": [
    {
     "data": {
      "text/html": [
       "<style>#sk-container-id-5 {color: black;}#sk-container-id-5 pre{padding: 0;}#sk-container-id-5 div.sk-toggleable {background-color: white;}#sk-container-id-5 label.sk-toggleable__label {cursor: pointer;display: block;width: 100%;margin-bottom: 0;padding: 0.3em;box-sizing: border-box;text-align: center;}#sk-container-id-5 label.sk-toggleable__label-arrow:before {content: \"▸\";float: left;margin-right: 0.25em;color: #696969;}#sk-container-id-5 label.sk-toggleable__label-arrow:hover:before {color: black;}#sk-container-id-5 div.sk-estimator:hover label.sk-toggleable__label-arrow:before {color: black;}#sk-container-id-5 div.sk-toggleable__content {max-height: 0;max-width: 0;overflow: hidden;text-align: left;background-color: #f0f8ff;}#sk-container-id-5 div.sk-toggleable__content pre {margin: 0.2em;color: black;border-radius: 0.25em;background-color: #f0f8ff;}#sk-container-id-5 input.sk-toggleable__control:checked~div.sk-toggleable__content {max-height: 200px;max-width: 100%;overflow: auto;}#sk-container-id-5 input.sk-toggleable__control:checked~label.sk-toggleable__label-arrow:before {content: \"▾\";}#sk-container-id-5 div.sk-estimator input.sk-toggleable__control:checked~label.sk-toggleable__label {background-color: #d4ebff;}#sk-container-id-5 div.sk-label input.sk-toggleable__control:checked~label.sk-toggleable__label {background-color: #d4ebff;}#sk-container-id-5 input.sk-hidden--visually {border: 0;clip: rect(1px 1px 1px 1px);clip: rect(1px, 1px, 1px, 1px);height: 1px;margin: -1px;overflow: hidden;padding: 0;position: absolute;width: 1px;}#sk-container-id-5 div.sk-estimator {font-family: monospace;background-color: #f0f8ff;border: 1px dotted black;border-radius: 0.25em;box-sizing: border-box;margin-bottom: 0.5em;}#sk-container-id-5 div.sk-estimator:hover {background-color: #d4ebff;}#sk-container-id-5 div.sk-parallel-item::after {content: \"\";width: 100%;border-bottom: 1px solid gray;flex-grow: 1;}#sk-container-id-5 div.sk-label:hover label.sk-toggleable__label {background-color: #d4ebff;}#sk-container-id-5 div.sk-serial::before {content: \"\";position: absolute;border-left: 1px solid gray;box-sizing: border-box;top: 0;bottom: 0;left: 50%;z-index: 0;}#sk-container-id-5 div.sk-serial {display: flex;flex-direction: column;align-items: center;background-color: white;padding-right: 0.2em;padding-left: 0.2em;position: relative;}#sk-container-id-5 div.sk-item {position: relative;z-index: 1;}#sk-container-id-5 div.sk-parallel {display: flex;align-items: stretch;justify-content: center;background-color: white;position: relative;}#sk-container-id-5 div.sk-item::before, #sk-container-id-5 div.sk-parallel-item::before {content: \"\";position: absolute;border-left: 1px solid gray;box-sizing: border-box;top: 0;bottom: 0;left: 50%;z-index: -1;}#sk-container-id-5 div.sk-parallel-item {display: flex;flex-direction: column;z-index: 1;position: relative;background-color: white;}#sk-container-id-5 div.sk-parallel-item:first-child::after {align-self: flex-end;width: 50%;}#sk-container-id-5 div.sk-parallel-item:last-child::after {align-self: flex-start;width: 50%;}#sk-container-id-5 div.sk-parallel-item:only-child::after {width: 0;}#sk-container-id-5 div.sk-dashed-wrapped {border: 1px dashed gray;margin: 0 0.4em 0.5em 0.4em;box-sizing: border-box;padding-bottom: 0.4em;background-color: white;}#sk-container-id-5 div.sk-label label {font-family: monospace;font-weight: bold;display: inline-block;line-height: 1.2em;}#sk-container-id-5 div.sk-label-container {text-align: center;}#sk-container-id-5 div.sk-container {/* jupyter's `normalize.less` sets `[hidden] { display: none; }` but bootstrap.min.css set `[hidden] { display: none !important; }` so we also need the `!important` here to be able to override the default hidden behavior on the sphinx rendered scikit-learn.org. See: https://github.com/scikit-learn/scikit-learn/issues/21755 */display: inline-block !important;position: relative;}#sk-container-id-5 div.sk-text-repr-fallback {display: none;}</style><div id=\"sk-container-id-5\" class=\"sk-top-container\"><div class=\"sk-text-repr-fallback\"><pre>Lasso(alpha=0.1)</pre><b>In a Jupyter environment, please rerun this cell to show the HTML representation or trust the notebook. <br />On GitHub, the HTML representation is unable to render, please try loading this page with nbviewer.org.</b></div><div class=\"sk-container\" hidden><div class=\"sk-item\"><div class=\"sk-estimator sk-toggleable\"><input class=\"sk-toggleable__control sk-hidden--visually\" id=\"sk-estimator-id-5\" type=\"checkbox\" checked><label for=\"sk-estimator-id-5\" class=\"sk-toggleable__label sk-toggleable__label-arrow\">Lasso</label><div class=\"sk-toggleable__content\"><pre>Lasso(alpha=0.1)</pre></div></div></div></div></div>"
      ],
      "text/plain": [
       "Lasso(alpha=0.1)"
      ]
     },
     "execution_count": 60,
     "metadata": {},
     "output_type": "execute_result"
    }
   ],
   "source": [
    "from sklearn.linear_model import Lasso\n",
    "\n",
    "X_train, X_test, y_train, y_test = train_test_split(X1, y, test_size=0.2, random_state=42)\n",
    "\n",
    "\n",
    "lasso = Lasso(alpha=0.1)  \n",
    "\n",
    "\n",
    "lasso.fit(X_train, y_train)"
   ]
  },
  {
   "cell_type": "code",
   "execution_count": 61,
   "id": "86371112-4f09-41d3-8601-007ebb471916",
   "metadata": {},
   "outputs": [
    {
     "name": "stdout",
     "output_type": "stream",
     "text": [
      "Intercept:  37.42611716885486\n",
      "Coefficient:  [11.2418821  -0.2632706   8.26223639]\n"
     ]
    }
   ],
   "source": [
    "print(\"Intercept: \", lasso.intercept_)\n",
    "print(\"Coefficient: \", lasso.coef_)"
   ]
  },
  {
   "cell_type": "code",
   "execution_count": 62,
   "id": "2f027ecf-f1df-4315-85e7-a07b29cb11aa",
   "metadata": {},
   "outputs": [],
   "source": [
    "y_pred = lasso.predict(X_test)"
   ]
  },
  {
   "cell_type": "code",
   "execution_count": 63,
   "id": "f8366547-4c4a-4916-a7b2-0270b0e9b9df",
   "metadata": {},
   "outputs": [
    {
     "data": {
      "text/html": [
       "<div>\n",
       "<style scoped>\n",
       "    .dataframe tbody tr th:only-of-type {\n",
       "        vertical-align: middle;\n",
       "    }\n",
       "\n",
       "    .dataframe tbody tr th {\n",
       "        vertical-align: top;\n",
       "    }\n",
       "\n",
       "    .dataframe thead th {\n",
       "        text-align: right;\n",
       "    }\n",
       "</style>\n",
       "<table border=\"1\" class=\"dataframe\">\n",
       "  <thead>\n",
       "    <tr style=\"text-align: right;\">\n",
       "      <th></th>\n",
       "      <th>Actual value</th>\n",
       "      <th>Predicted value</th>\n",
       "    </tr>\n",
       "  </thead>\n",
       "  <tbody>\n",
       "    <tr>\n",
       "      <th>773</th>\n",
       "      <td>175.0</td>\n",
       "      <td>183.910016</td>\n",
       "    </tr>\n",
       "    <tr>\n",
       "      <th>280</th>\n",
       "      <td>221.0</td>\n",
       "      <td>222.985923</td>\n",
       "    </tr>\n",
       "    <tr>\n",
       "      <th>629</th>\n",
       "      <td>226.0</td>\n",
       "      <td>227.943265</td>\n",
       "    </tr>\n",
       "    <tr>\n",
       "      <th>318</th>\n",
       "      <td>277.0</td>\n",
       "      <td>268.969584</td>\n",
       "    </tr>\n",
       "    <tr>\n",
       "      <th>1008</th>\n",
       "      <td>244.0</td>\n",
       "      <td>243.383935</td>\n",
       "    </tr>\n",
       "  </tbody>\n",
       "</table>\n",
       "</div>"
      ],
      "text/plain": [
       "      Actual value  Predicted value\n",
       "773          175.0       183.910016\n",
       "280          221.0       222.985923\n",
       "629          226.0       227.943265\n",
       "318          277.0       268.969584\n",
       "1008         244.0       243.383935"
      ]
     },
     "execution_count": 63,
     "metadata": {},
     "output_type": "execute_result"
    }
   ],
   "source": [
    "model_diff = pd.DataFrame({'Actual value': y_test, 'Predicted value': y_pred})\n",
    "model_diff.head()"
   ]
  },
  {
   "cell_type": "code",
   "execution_count": 64,
   "id": "daf4e045-98ed-4b7e-a2c4-349e9e31e362",
   "metadata": {},
   "outputs": [
    {
     "name": "stdout",
     "output_type": "stream",
     "text": [
      "R2 Score: 0.8761986640423267\n"
     ]
    }
   ],
   "source": [
    "r2 = r2_score(y_test, y_pred)\n",
    "print('R2 Score:', r2)"
   ]
  },
  {
   "cell_type": "code",
   "execution_count": 68,
   "id": "460c7fff-2ed4-4621-94d6-8db1760b639e",
   "metadata": {},
   "outputs": [],
   "source": [
    "# Tutorial 3\n",
    "\n",
    "X = final_dataset.drop(\"num__CO2-Emissions\", axis=1).values\n",
    "y = final_dataset[\"num__CO2-Emissions\"].values"
   ]
  },
  {
   "cell_type": "code",
   "execution_count": 69,
   "id": "930ae764-ac49-4e48-af66-c24f095d3728",
   "metadata": {},
   "outputs": [],
   "source": [
    "X_train, X_test, y_train, y_test = train_test_split(X, y, test_size=0.20, random_state=42)"
   ]
  },
  {
   "cell_type": "code",
   "execution_count": 70,
   "id": "0fd6c85a-bfc6-4b32-9b32-a53b899b400c",
   "metadata": {},
   "outputs": [
    {
     "name": "stdout",
     "output_type": "stream",
     "text": [
      "Best Params {'alpha': 0.05}\n"
     ]
    }
   ],
   "source": [
    "\n",
    "from sklearn.model_selection import KFold\n",
    "from sklearn.model_selection import GridSearchCV\n",
    "\n",
    "params = {'alpha': [0.0001, 0.001, 0.01, 0.05, 0.1, \n",
    " 0.2, 0.3, 0.4, 0.5, 0.6, 0.7, 0.8, 0.9, 1.0, 2.0, 3.0, \n",
    " 4.0, 5.0, 6.0, 7.0, 8.0, 9.0, 10.0, 20, 50, 100, 500, 1000 ]}\n",
    "\n",
    "\n",
    "kf=KFold(n_splits=5,shuffle=True, random_state=42)\n",
    "\n",
    "\n",
    "lasso = Lasso()\n",
    "\n",
    "\n",
    "lasso_cv=GridSearchCV(lasso, param_grid=params, cv=kf, scoring= 'neg_mean_absolute_error')\n",
    "lasso_cv.fit(X, y)\n",
    "\n",
    "print(\"Best Params {}\".format(lasso_cv.best_params_))"
   ]
  },
  {
   "cell_type": "code",
   "execution_count": 71,
   "id": "a28ed04d-4f3a-4f6f-86a3-b9f40ebf3992",
   "metadata": {},
   "outputs": [
    {
     "data": {
      "image/png": "[encoded data removed]",
      "text/plain": [
       "<Figure size 640x480 with 1 Axes>"
      ]
     },
     "metadata": {},
     "output_type": "display_data"
    }
   ],
   "source": [
    "\n",
    "lasso1 = Lasso(alpha=0.05)\n",
    "lasso1.fit(X_train, y_train)\n",
    "\n",
    "  \n",
    "lasso1_coef = np.abs(lasso1.coef_)\n",
    "\n",
    "\n",
    "plt.bar(names, lasso1_coef)\n",
    "plt.xticks(rotation=90)\n",
    "plt.grid()\n",
    "plt.title(\"Feature Selection Based on Lasso\")\n",
    "plt.xlabel(\"Features\")\n",
    "plt.ylabel(\"Importance\")\n",
    "plt.ylim(0, 0.15)\n",
    "plt.show()"
   ]
  },
  {
   "cell_type": "code",
   "execution_count": 73,
   "id": "52c366a6-7d44-4f4f-b0ca-0e58fe0fa895",
   "metadata": {},
   "outputs": [
    {
     "data": {
      "text/plain": [
       "array(['num__Engine-Size', 'num__Cylinders', 'num__Fuel-Consumption-City',\n",
       "       'num__Fuel-Consumption-Hwy', 'num__Fuel-Consumption-Comb',\n",
       "       'cat__Make_Ford', 'cat__Make_infrequent_sklearn',\n",
       "       'cat__Vehicle-Class_Mid-size', 'cat__Vehicle-Class_SUV: Standard',\n",
       "       'cat__Transmission_infrequent_sklearn', 'cat__Fuel-Type_E',\n",
       "       'cat__Fuel-Type_infrequent_sklearn'], dtype=object)"
      ]
     },
     "execution_count": 73,
     "metadata": {},
     "output_type": "execute_result"
    }
   ],
   "source": [
    "feature_subset=np.array(names)[lasso1_coef>0.05]\n",
    "feature_subset"
   ]
  },
  {
   "cell_type": "code",
   "execution_count": 74,
   "id": "d1d23d02-27ba-4c6e-bf22-3a5f9f63e23e",
   "metadata": {},
   "outputs": [
    {
     "data": {
      "text/plain": [
       "array(['num__Engine-Size', 'num__Cylinders', 'num__Fuel-Consumption-City',\n",
       "       'num__Fuel-Consumption-Hwy', 'num__Fuel-Consumption-Comb',\n",
       "       'cat__Make_Ford', 'cat__Make_infrequent_sklearn',\n",
       "       'cat__Vehicle-Class_Mid-size', 'cat__Vehicle-Class_SUV: Standard',\n",
       "       'cat__Transmission_infrequent_sklearn', 'cat__Fuel-Type_E',\n",
       "       'cat__Fuel-Type_infrequent_sklearn', 'num__CO2-Emissions'],\n",
       "      dtype=object)"
      ]
     },
     "execution_count": 74,
     "metadata": {},
     "output_type": "execute_result"
    }
   ],
   "source": [
    "feature_subset1=np.append(feature_subset, \"num__CO2-Emissions\")\n",
    "feature_subset1"
   ]
  },
  {
   "cell_type": "code",
   "execution_count": 76,
   "id": "a2fc88a7-1196-42d7-bf33-2799e569f8f0",
   "metadata": {},
   "outputs": [],
   "source": [
    "new_df = final_dataset[['num__Engine-Size', 'num__Cylinders', 'num__Fuel-Consumption-City',\n",
    " 'num__Fuel-Consumption-Hwy', 'num__Fuel-Consumption-Comb', 'cat__Make_Ford',\n",
    " 'cat__Make_infrequent_sklearn', 'cat__Vehicle-Class_Mid-size',\n",
    " 'cat__Vehicle-Class_SUV: Standard', 'cat__Transmission_infrequent_sklearn',\n",
    " 'cat__Fuel-Type_E', 'cat__Fuel-Type_infrequent_sklearn',\n",
    " 'num__CO2-Emissions']]"
   ]
  },
  {
   "cell_type": "code",
   "execution_count": 77,
   "id": "ff683e75-fac7-41a3-ac44-2944a08a9180",
   "metadata": {},
   "outputs": [
    {
     "data": {
      "text/plain": [
       "(1046, 13)"
      ]
     },
     "execution_count": 77,
     "metadata": {},
     "output_type": "execute_result"
    }
   ],
   "source": [
    "new_df.shape"
   ]
  },
  {
   "cell_type": "code",
   "execution_count": 45,
   "id": "da822173-6fc1-4ff9-b708-601a6b84a8aa",
   "metadata": {},
   "outputs": [],
   "source": [
    "X = new_df.drop(['num__CO2-Emissions'], axis =1)\n",
    "y = new_df['num__CO2-Emissions']"
   ]
  },
  {
   "cell_type": "code",
   "execution_count": 48,
   "id": "5115883e-2e12-409d-b2cd-65f98f4ee662",
   "metadata": {},
   "outputs": [],
   "source": [
    "\n",
    "X_train, X_test, y_train, y_test = train_test_split(X, y, test_size = 0.2, random_state = 100)"
   ]
  },
  {
   "cell_type": "code",
   "execution_count": 49,
   "id": "710f8d8c-caeb-4ee5-8a0b-4a43832ee6c1",
   "metadata": {},
   "outputs": [
    {
     "data": {
      "text/html": [
       "<style>#sk-container-id-4 {color: black;}#sk-container-id-4 pre{padding: 0;}#sk-container-id-4 div.sk-toggleable {background-color: white;}#sk-container-id-4 label.sk-toggleable__label {cursor: pointer;display: block;width: 100%;margin-bottom: 0;padding: 0.3em;box-sizing: border-box;text-align: center;}#sk-container-id-4 label.sk-toggleable__label-arrow:before {content: \"▸\";float: left;margin-right: 0.25em;color: #696969;}#sk-container-id-4 label.sk-toggleable__label-arrow:hover:before {color: black;}#sk-container-id-4 div.sk-estimator:hover label.sk-toggleable__label-arrow:before {color: black;}#sk-container-id-4 div.sk-toggleable__content {max-height: 0;max-width: 0;overflow: hidden;text-align: left;background-color: #f0f8ff;}#sk-container-id-4 div.sk-toggleable__content pre {margin: 0.2em;color: black;border-radius: 0.25em;background-color: #f0f8ff;}#sk-container-id-4 input.sk-toggleable__control:checked~div.sk-toggleable__content {max-height: 200px;max-width: 100%;overflow: auto;}#sk-container-id-4 input.sk-toggleable__control:checked~label.sk-toggleable__label-arrow:before {content: \"▾\";}#sk-container-id-4 div.sk-estimator input.sk-toggleable__control:checked~label.sk-toggleable__label {background-color: #d4ebff;}#sk-container-id-4 div.sk-label input.sk-toggleable__control:checked~label.sk-toggleable__label {background-color: #d4ebff;}#sk-container-id-4 input.sk-hidden--visually {border: 0;clip: rect(1px 1px 1px 1px);clip: rect(1px, 1px, 1px, 1px);height: 1px;margin: -1px;overflow: hidden;padding: 0;position: absolute;width: 1px;}#sk-container-id-4 div.sk-estimator {font-family: monospace;background-color: #f0f8ff;border: 1px dotted black;border-radius: 0.25em;box-sizing: border-box;margin-bottom: 0.5em;}#sk-container-id-4 div.sk-estimator:hover {background-color: #d4ebff;}#sk-container-id-4 div.sk-parallel-item::after {content: \"\";width: 100%;border-bottom: 1px solid gray;flex-grow: 1;}#sk-container-id-4 div.sk-label:hover label.sk-toggleable__label {background-color: #d4ebff;}#sk-container-id-4 div.sk-serial::before {content: \"\";position: absolute;border-left: 1px solid gray;box-sizing: border-box;top: 0;bottom: 0;left: 50%;z-index: 0;}#sk-container-id-4 div.sk-serial {display: flex;flex-direction: column;align-items: center;background-color: white;padding-right: 0.2em;padding-left: 0.2em;position: relative;}#sk-container-id-4 div.sk-item {position: relative;z-index: 1;}#sk-container-id-4 div.sk-parallel {display: flex;align-items: stretch;justify-content: center;background-color: white;position: relative;}#sk-container-id-4 div.sk-item::before, #sk-container-id-4 div.sk-parallel-item::before {content: \"\";position: absolute;border-left: 1px solid gray;box-sizing: border-box;top: 0;bottom: 0;left: 50%;z-index: -1;}#sk-container-id-4 div.sk-parallel-item {display: flex;flex-direction: column;z-index: 1;position: relative;background-color: white;}#sk-container-id-4 div.sk-parallel-item:first-child::after {align-self: flex-end;width: 50%;}#sk-container-id-4 div.sk-parallel-item:last-child::after {align-self: flex-start;width: 50%;}#sk-container-id-4 div.sk-parallel-item:only-child::after {width: 0;}#sk-container-id-4 div.sk-dashed-wrapped {border: 1px dashed gray;margin: 0 0.4em 0.5em 0.4em;box-sizing: border-box;padding-bottom: 0.4em;background-color: white;}#sk-container-id-4 div.sk-label label {font-family: monospace;font-weight: bold;display: inline-block;line-height: 1.2em;}#sk-container-id-4 div.sk-label-container {text-align: center;}#sk-container-id-4 div.sk-container {/* jupyter's `normalize.less` sets `[hidden] { display: none; }` but bootstrap.min.css set `[hidden] { display: none !important; }` so we also need the `!important` here to be able to override the default hidden behavior on the sphinx rendered scikit-learn.org. See: https://github.com/scikit-learn/scikit-learn/issues/21755 */display: inline-block !important;position: relative;}#sk-container-id-4 div.sk-text-repr-fallback {display: none;}</style><div id=\"sk-container-id-4\" class=\"sk-top-container\"><div class=\"sk-text-repr-fallback\"><pre>LinearRegression()</pre><b>In a Jupyter environment, please rerun this cell to show the HTML representation or trust the notebook. <br />On GitHub, the HTML representation is unable to render, please try loading this page with nbviewer.org.</b></div><div class=\"sk-container\" hidden><div class=\"sk-item\"><div class=\"sk-estimator sk-toggleable\"><input class=\"sk-toggleable__control sk-hidden--visually\" id=\"sk-estimator-id-4\" type=\"checkbox\" checked><label for=\"sk-estimator-id-4\" class=\"sk-toggleable__label sk-toggleable__label-arrow\">LinearRegression</label><div class=\"sk-toggleable__content\"><pre>LinearRegression()</pre></div></div></div></div></div>"
      ],
      "text/plain": [
       "LinearRegression()"
      ]
     },
     "execution_count": 49,
     "metadata": {},
     "output_type": "execute_result"
    }
   ],
   "source": [
    "model = LinearRegression()  \n",
    "model.fit(X_train, y_train)"
   ]
  },
  {
   "cell_type": "code",
   "execution_count": 50,
   "id": "ec11442c-fe05-4f77-a848-a11d7541faf4",
   "metadata": {},
   "outputs": [
    {
     "name": "stdout",
     "output_type": "stream",
     "text": [
      "Intercept:  0.05899196337037438\n",
      "Coefficient:  [   1.7503409    -0.216011      4.88075575    6.92585551   11.84407069\n",
      "    0.47296486   -0.76163866    0.79259974   -1.47411266   -1.58973258\n",
      " -110.74501207   30.76049461]\n"
     ]
    }
   ],
   "source": [
    "print(\"Intercept: \", model.intercept_)\n",
    "print(\"Coefficient: \", model.coef_)\n"
   ]
  },
  {
   "cell_type": "code",
   "execution_count": 51,
   "id": "59f73c3a-dc43-4983-87fa-e0740e1e289e",
   "metadata": {},
   "outputs": [],
   "source": [
    "y_pred_model= model.predict(X_test)"
   ]
  },
  {
   "cell_type": "code",
   "execution_count": 52,
   "id": "017f8d69-b16c-4a8f-be5c-1be320d18bd1",
   "metadata": {},
   "outputs": [
    {
     "name": "stdout",
     "output_type": "stream",
     "text": [
      "R2 Score: 0.9955832866886161\n"
     ]
    }
   ],
   "source": [
    "from sklearn.metrics import r2_score\n",
    "\n",
    "r2 = r2_score(y_test, y_pred_model)\n",
    "print('R2 Score:', r2)"
   ]
  },
  {
   "cell_type": "code",
   "execution_count": 53,
   "id": "909c9b34-a108-4dbc-8a87-5557ffe79882",
   "metadata": {},
   "outputs": [
    {
     "name": "stdout",
     "output_type": "stream",
     "text": [
      "Train Accuracy: 0.9906975710320831\n"
     ]
    }
   ],
   "source": [
    "print(\"Train Accuracy:\",model.score(X_train, y_train))"
   ]
  },
  {
   "cell_type": "code",
   "execution_count": 54,
   "id": "f0f1d9e4-c6f4-4ae0-94e9-ae33947ccf0c",
   "metadata": {},
   "outputs": [
    {
     "name": "stdout",
     "output_type": "stream",
     "text": [
      "Test Accuracy: 0.9955832866886161\n"
     ]
    }
   ],
   "source": [
    "print(\"Test Accuracy:\",model.score(X_test, y_test))"
   ]
  },
  {
   "cell_type": "code",
   "execution_count": null,
   "id": "b40fe186-b95c-4503-b525-19baf71d1bb2",
   "metadata": {},
   "outputs": [],
   "source": []
  }
 ],
 "metadata": {
  "kernelspec": {
   "display_name": "Python 3 (ipykernel)",
   "language": "python",
   "name": "python3"
  },
  "language_info": {
   "codemirror_mode": {
    "name": "ipython",
    "version": 3
   },
   "file_extension": ".py",
   "mimetype": "text/x-python",
   "name": "python",
   "nbconvert_exporter": "python",
   "pygments_lexer": "ipython3",
   "version": "3.9.0"
  }
 },
 "nbformat": 4,
 "nbformat_minor": 5
}
